{
  "cells": [
    {
      "cell_type": "markdown",
      "metadata": {
        "id": "view-in-github",
        "colab_type": "text"
      },
      "source": [
        "<a href=\"https://colab.research.google.com/github/yeshurunlevi/yesl/blob/main/trip.ipynb\" target=\"_parent\"><img src=\"https://colab.research.google.com/assets/colab-badge.svg\" alt=\"Open In Colab\"/></a>"
      ]
    },
    {
      "cell_type": "markdown",
      "metadata": {
        "id": "WIlzw1Ap1R-C"
      },
      "source": [
        "columns:\n",
        "\n",
        "link - ID?\n",
        "\n",
        "name - name\n",
        "\n",
        "original_location - list of all\n",
        "\n",
        "claimed - restaurant business claimed on TripAdvisor\n",
        "\n",
        "awards - awards, when get.\n",
        "\n",
        "popularity_detailed - popularity detailed ranking\n",
        "\n",
        "popularity_generic - popularity generic ranking (among all places to eat in the area)\n",
        "\n",
        "top_tags - top tag names (key words?)\n",
        "\n",
        "price_level - level of prices in current currency (data scraped from www.tripadvisor.ie - so currency is €)\n",
        "\n",
        "price_range - range of prices in current currency (ranges displayed on TripAdvisor seem to be quite unreliable)\n",
        "\n",
        "meals - types of meal\n",
        "\n",
        "cuisines - types of cuisine\n",
        "\n",
        "special_diets - types of special diets\n",
        "\n",
        "features - restaurant features\n",
        "\n",
        "vegetarian_friendly - is the restaurant vegetarian friendly?\n",
        "\n",
        "vegan_options - does the restaurant offer vegan options?\n",
        "\n",
        "gluten_free - does the restaurant gluten-free options?"
      ]
    },
    {
      "cell_type": "code",
      "execution_count": 1,
      "metadata": {
        "id": "1YIgwKE1uS_Y"
      },
      "outputs": [],
      "source": [
        "import pandas as pd\n",
        "import numpy as np\n",
        "\n",
        "from sklearn.preprocessing import LabelEncoder"
      ]
    },
    {
      "cell_type": "code",
      "execution_count": 2,
      "metadata": {
        "id": "Aaz9VU7Suea1",
        "colab": {
          "base_uri": "https://localhost:8080/"
        },
        "outputId": "e583adc3-4e46-4efc-accb-fe4e5d9f25e4"
      },
      "outputs": [
        {
          "output_type": "stream",
          "name": "stderr",
          "text": [
            "<ipython-input-2-c856f44723e1>:1: DtypeWarning: Columns (4) have mixed types. Specify dtype option on import or set low_memory=False.\n",
            "  df = pd.read_csv(r'/content/drive/MyDrive/Trip Advisor EU restaurants /tripadvisor_european_restaurants.csv')\n"
          ]
        }
      ],
      "source": [
        "df = pd.read_csv(r'/content/drive/MyDrive/Trip Advisor EU restaurants /tripadvisor_european_restaurants.csv')"
      ]
    },
    {
      "cell_type": "code",
      "execution_count": 3,
      "metadata": {
        "id": "MCc9vyJ3ut3w",
        "colab": {
          "base_uri": "https://localhost:8080/"
        },
        "outputId": "5a0e634c-65c2-4d9c-f841-9731645cc758"
      },
      "outputs": [
        {
          "output_type": "stream",
          "name": "stdout",
          "text": [
            "<class 'pandas.core.frame.DataFrame'>\n",
            "RangeIndex: 1083397 entries, 0 to 1083396\n",
            "Data columns (total 42 columns):\n",
            " #   Column                             Non-Null Count    Dtype  \n",
            "---  ------                             --------------    -----  \n",
            " 0   restaurant_link                    1083397 non-null  object \n",
            " 1   restaurant_name                    1083396 non-null  object \n",
            " 2   original_location                  1083397 non-null  object \n",
            " 3   country                            1083397 non-null  object \n",
            " 4   region                             1033074 non-null  object \n",
            " 5   province                           742765 non-null   object \n",
            " 6   city                               682712 non-null   object \n",
            " 7   address                            1083397 non-null  object \n",
            " 8   latitude                           1067607 non-null  float64\n",
            " 9   longitude                          1067607 non-null  float64\n",
            " 10  claimed                            1081555 non-null  object \n",
            " 11  awards                             263133 non-null   object \n",
            " 12  popularity_detailed                988409 non-null   object \n",
            " 13  popularity_generic                 985605 non-null   object \n",
            " 14  top_tags                           972763 non-null   object \n",
            " 15  price_level                        806192 non-null   object \n",
            " 16  price_range                        304327 non-null   object \n",
            " 17  meals                              635347 non-null   object \n",
            " 18  cuisines                           914294 non-null   object \n",
            " 19  special_diets                      340256 non-null   object \n",
            " 20  features                           317407 non-null   object \n",
            " 21  vegetarian_friendly                1083397 non-null  object \n",
            " 22  vegan_options                      1083397 non-null  object \n",
            " 23  gluten_free                        1083397 non-null  object \n",
            " 24  original_open_hours                593832 non-null   object \n",
            " 25  open_days_per_week                 593832 non-null   float64\n",
            " 26  open_hours_per_week                593832 non-null   float64\n",
            " 27  working_shifts_per_week            593832 non-null   float64\n",
            " 28  avg_rating                         986761 non-null   float64\n",
            " 29  total_reviews_count                1031162 non-null  float64\n",
            " 30  default_language                   988204 non-null   object \n",
            " 31  reviews_count_in_default_language  988204 non-null   float64\n",
            " 32  excellent                          988204 non-null   float64\n",
            " 33  very_good                          988204 non-null   float64\n",
            " 34  average                            988204 non-null   float64\n",
            " 35  poor                               988204 non-null   float64\n",
            " 36  terrible                           988204 non-null   float64\n",
            " 37  food                               599325 non-null   float64\n",
            " 38  service                            604287 non-null   float64\n",
            " 39  value                              602692 non-null   float64\n",
            " 40  atmosphere                         261785 non-null   float64\n",
            " 41  keywords                           99198 non-null    object \n",
            "dtypes: float64(17), object(25)\n",
            "memory usage: 347.2+ MB\n"
          ]
        }
      ],
      "source": [
        "df.info()"
      ]
    },
    {
      "cell_type": "code",
      "execution_count": 4,
      "metadata": {
        "id": "Adl5QvZx3BNs",
        "colab": {
          "base_uri": "https://localhost:8080/"
        },
        "outputId": "39094f09-417e-4ba9-984f-9f399438efd1"
      },
      "outputs": [
        {
          "output_type": "stream",
          "name": "stderr",
          "text": [
            "<ipython-input-4-c41f0c708620>:5: FutureWarning: DataFrame.applymap has been deprecated. Use DataFrame.map instead.\n",
            "  df2 = df2.applymap(lambda x: x.lower() if isinstance(x, str) else x)\n"
          ]
        }
      ],
      "source": [
        "df2 = df[df['country'] == 'Greece']\n",
        "df2 = df2[df2['total_reviews_count']>=5]\n",
        "\n",
        "#df2 = df2.applymap(lambda x: x.replace(\" \", \"\") if isinstance(x, str) else x)\n",
        "df2 = df2.applymap(lambda x: x.lower() if isinstance(x, str) else x)\n",
        "\n",
        "df2['claimed'] = df2['claimed'].map({'Claimed': 1, 'Unclaimed': 0})\n",
        "\n",
        "\n",
        "def succ(x):\n",
        "  if x >= 4.5:\n",
        "    return 1\n",
        "  else:\n",
        "    return 0\n",
        "df2['success (target)'] = [succ(x) for x in df2['avg_rating']]"
      ]
    },
    {
      "cell_type": "code",
      "execution_count": 5,
      "metadata": {
        "id": "dNftqp-G-1Lh",
        "colab": {
          "base_uri": "https://localhost:8080/",
          "height": 178
        },
        "outputId": "0222586a-4b83-4f62-f591-2c5f1b26ee34"
      },
      "outputs": [
        {
          "output_type": "execute_result",
          "data": {
            "text/plain": [
              "success (target)\n",
              "1    16034\n",
              "0     9469\n",
              "Name: count, dtype: int64"
            ],
            "text/html": [
              "<div>\n",
              "<style scoped>\n",
              "    .dataframe tbody tr th:only-of-type {\n",
              "        vertical-align: middle;\n",
              "    }\n",
              "\n",
              "    .dataframe tbody tr th {\n",
              "        vertical-align: top;\n",
              "    }\n",
              "\n",
              "    .dataframe thead th {\n",
              "        text-align: right;\n",
              "    }\n",
              "</style>\n",
              "<table border=\"1\" class=\"dataframe\">\n",
              "  <thead>\n",
              "    <tr style=\"text-align: right;\">\n",
              "      <th></th>\n",
              "      <th>count</th>\n",
              "    </tr>\n",
              "    <tr>\n",
              "      <th>success (target)</th>\n",
              "      <th></th>\n",
              "    </tr>\n",
              "  </thead>\n",
              "  <tbody>\n",
              "    <tr>\n",
              "      <th>1</th>\n",
              "      <td>16034</td>\n",
              "    </tr>\n",
              "    <tr>\n",
              "      <th>0</th>\n",
              "      <td>9469</td>\n",
              "    </tr>\n",
              "  </tbody>\n",
              "</table>\n",
              "</div><br><label><b>dtype:</b> int64</label>"
            ]
          },
          "metadata": {},
          "execution_count": 5
        }
      ],
      "source": [
        "df2['success (target)'].value_counts()"
      ]
    },
    {
      "cell_type": "code",
      "execution_count": 6,
      "metadata": {
        "id": "xplnN_yyWFcD"
      },
      "outputs": [],
      "source": [
        "# Extract only the ranking number, handling NaNs\n",
        "df2[\"popularity_detailed\"], df2[\"restaurants\"] = df2[\"popularity_detailed\"].str.extract(r'#(\\d)'), df2[\"popularity_detailed\"].str.extract(r'#(\\d+)')\n",
        "df2[\"popularity_generic\"], df2[\"places\"] = df2[\"popularity_generic\"].str.extract(r'#(\\d)'), df2[\"popularity_generic\"].str.extract(r'#(\\d+)')\n"
      ]
    },
    {
      "cell_type": "code",
      "execution_count": 7,
      "metadata": {
        "id": "XZToNugn3-_T"
      },
      "outputs": [],
      "source": [
        "df2['to_new_data'] = df2['top_tags'] + ',' +df2['meals']+ ',' + df2['cuisines'] + ',' + df2['special_diets']+ ',' + df2['features']+ ','+ df2['keywords']"
      ]
    },
    {
      "cell_type": "code",
      "execution_count": 8,
      "metadata": {
        "id": "qWNziA8ttBFQ",
        "colab": {
          "base_uri": "https://localhost:8080/"
        },
        "outputId": "7ed2feb1-d450-4b3a-f946-16567c82bdc4"
      },
      "outputs": [
        {
          "output_type": "stream",
          "name": "stdout",
          "text": [
            "Counter({'mediterranean': 2051, 'greek': 1790, 'vegetarian friendly': 1452, 'seafood': 1369, 'seating': 1217, 'serves alcohol': 1217, 'table service': 1211, 'dinner': 1194, 'lunch': 1163, 'outdoor seating': 1143, 'vegan options': 1133, 'reservations': 1113, 'free wifi': 1092, 'mid-range': 1017, 'highchairs available': 930, 'gluten free options': 917, 'accepts credit cards': 889, 'wheelchair accessible': 832, 'full bar': 789, 'european': 725, 'takeout': 623, 'after-hours': 601, 'brunch': 544, 'wine and beer': 453, 'drinks': 398, 'accepts visa': 397, 'accepts mastercard': 388, 'salad': 353, 'breakfast': 346, 'pizza': 297, 'parking available': 282, 'international': 238, 'healthy': 230, 'bar': 228, 'accepts american express': 222, 'street parking': 207, 'italian': 184, 'waterfront': 168, 'cheap eats': 161, 'free off-street parking': 157, 'greek salad': 157, 'television': 156, 'digital payments': 151, 'cash only': 144, 'moussaka': 143, 'cafe': 142, 'fresh fish': 119, 'bread': 119, 'grill': 112, 'delivery': 102, 'live music': 100, 'lamb': 96, 'octopus': 95, 'barbecue': 95, 'sea bass': 82, 'steak': 82, 'validated parking': 78, 'chicken': 69, 'calamari': 68, 'fine dining': 67, 'accepts discover': 61, 'beach': 61, 'gyros': 58, 'sushi': 57, 'burger': 56, 'mixed grill': 55, 'fries': 53, 'potatoes': 52, 'asian': 51, 'fast food': 50, 'souvlaki': 47, 'ate here': 47, 'pasta': 46, 'prawns': 46, 'mussels': 44, 'pork': 44, 'steakhouse': 44, 'wine bar': 43, 'fish': 41, 'family style': 40, 'ice cream': 40, 'the owner': 38, 'sea bream': 36, 'pub': 36, 'kleftiko': 36, 'risotto': 35, 'contemporary': 33, 'shrimp': 32, 'playgrounds': 31, 'sardines': 31, 'meatballs': 28, 'garlic bread': 28, 'delicious food': 28, 'baklava': 28, 'japanese': 28, 'cheesecake': 28, 'rice': 27, 'gift cards available': 26, 'tzatziki': 26, 'salmon': 25, 'stifado': 25, 'chinese': 25, 'buffet': 24, 'spaghetti': 24, 'saganaki': 24, 'dog friendly': 24, 'old town': 24, 'diner': 23, 'cake': 23, 'lamb chops': 23, 'excellent food': 22, 'ribs': 22, 'great view': 22, 'grilled octopus': 21, 'goat': 20, 'american': 20, 'non-smoking restaurants': 19, 'valet parking': 19, 'beef': 19, 'fusion': 19, 'pancakes': 19, 'red snapper': 18, 'amazing food': 18, 'indian': 18, 'fruit': 17, 'pie': 17, 'cakes': 17, 'yogurt': 16, 'halloumi': 16, 'lamb kleftiko': 16, 'mexican': 16, 'island': 16, 'hummus': 16, 'private dining': 15, 'thai': 15, 'tiramisu': 15, 'pitta': 15, 'lobster': 14, 'tasty food': 14, 'dessert': 14, 'great food': 14, 'lamb shank': 14, 'british': 13, 'club sandwich': 13, 'neapolitan': 13, 'tuna': 13, 'swordfish': 13, 'friendly service': 13, 'sea': 12, 'during our stay': 12, 'crepes': 12, 'lovely food': 12, 'campania': 12, 'southern-italian': 12, 'carbonara': 12, 'orange cake': 11, 'nice view': 10, 'next year': 10, 'great restaurant': 10, 'pita bread': 10, 'view': 10, 'last night': 10, 'scallops': 10, 'bruschetta': 10, 'grilled vegetables': 9, 'taramasalata': 9, 'grilled sardines': 9, 'chicken souvlaki': 9, 'beach bar': 9, 'beautiful place': 9, 'great cocktails': 9, 'big portions': 9, 'street food': 9, 'nice food': 9, 'pasta dishes': 9, 'soups': 9, 'ceviche': 9, 'beautiful view': 8, 'sea view': 8, 'giros': 8, 'pork chop': 8, 'italian food': 8, 'snails': 8, 'greek night': 8, 'zucchini balls': 8, 'deli': 8, 'wine list': 8, 'truffle': 8, 'kebab': 8, 'latin': 8, 'beautiful restaurant': 8, 'watermelon': 7, 'overlooking the sea': 7, 'food was amazing': 7, 'great atmosphere': 7, 'traditional greek food': 7, 'potato balls': 7, 'santorini salad': 7, 'king prawns': 7, 'nice restaurant': 7, 'red mullet': 7, 'dishes': 7, 'every night': 7, 'curry': 7, 'visited this restaurant': 7, 'greek dancing': 7, 'rabbit': 7, 'stuffed calamari': 7, 'stuffed chicken': 7, 'seafood risotto': 7, 'fried potatoes': 7, 'tasting menu': 6, 'lemon pie': 6, 'tapas': 6, 'central european': 6, 'pies': 6, 'stuffed peppers': 6, 'panna cotta': 6, 'linguine': 6, 'orzo': 6, 'house wine': 6, 'home made': 6, 'soup': 6, 'stuffed vine leaves': 6, 'baked feta': 6, 'watch the sunset': 6, 'halal': 6, 'falafel': 6, 'amuse bouche': 6, 'quick bites': 6, 'spring rolls': 6, 'cod': 6, 'eggplant': 6, 'brew pub': 6, 'prosciutto': 6, 'liver': 6, 'ravioli': 6, 'beach front': 6, 'holiday': 6, 'veal': 5, 'fantastic food': 5, 'nice location': 5, 'cooked to perfection': 5, 'mixed souvlaki': 5, 'croquettes': 5, 'skewers': 5, 'the main road': 5, 'fillet steak': 5, 'the food is great': 5, 'chocolate cake': 5, 'fast service': 5, 'place to eat': 5, 'amazing views': 5, 'santorini': 5, 'waters edge': 5, 'fried zucchini': 5, 'free sunbeds': 5, 'shrimp saganaki': 5, 'pastitsio': 5, 'zucchini fritters': 5, 'lovely meal': 5, 'filet': 5, 'sandwiches': 5, 'great lunch': 5, 'an amazing view': 5, 'octopus carpaccio': 5, 'carpaccio': 5, 'chateaubriand': 5, 'musaka': 5, 'wraps': 5, 'mille feuille': 5, 'great food and service': 5, 'homemade chips': 5, 'central american': 5, 'fajitas': 5, 'sun loungers': 5, 'stuffed aubergine': 5, 'stuffed mushrooms': 4, 'vietnamese': 4, 'pad thai': 4, 'fresh seafood': 4, 'service was excellent': 4, 'dakos': 4, 'stunning views': 4, 'meat platter': 4, 't bone steak': 4, 'mexican food': 4, 'delicious dishes': 4, 'waffles': 4, 'fresh ingredients': 4, 'greece': 4, 'harbour front': 4, 'calamares': 4, 'homemade lemonade': 4, 'dolmades': 4, 'grilled squid': 4, 'corfu': 4, 'melon': 4, 'family run': 4, 'tzaziki': 4, 'the main square': 4, 'courgette balls': 4, 'beautiful location': 4, 'bream': 4, 'lebanese': 4, 'pastry': 4, 'thai food': 4, 'gastropub': 4, 'tacos': 4, 'duck': 4, 'roof terrace': 4, 'acropolis view': 4, 'pork belly': 4, 'starters': 4, 'fish soup': 4, 'tuna tartare': 4, 'seafood pasta': 4, 'amazing place': 4, 'chilli': 4, 'watch the world': 4, 'romantic setting': 4, 'main course': 4, 'arabic': 4, 'beef stifado': 4, 'tavern': 4, 'grilled meat': 4, 'beef carpaccio': 4, 'old port': 4, 'cheese balls': 4, 'belly pork': 4, 'spare ribs': 3, 'bao': 3, 'cuttlefish': 3, 'mini golf': 3, 'sunbeds and umbrellas': 3, 'fish and chips': 3, 'english breakfast': 3, 'prawn saganaki': 3, 'lovely place': 3, 'guacamole': 3, 'plate smashing': 3, 'rosé': 3, 'lovely family': 3, 'grilled sea bream': 3, 'harbour': 3, 'excellent view': 3, 'souvlakis': 3, 'meat': 3, 'generous portions': 3, 'fried calamari': 3, 'well worth a visit': 3, 'traditional food': 3, 'beach club': 3, 'portions are huge': 3, 'lovely evening': 3, 'tribute acts': 3, 'beautiful beach': 3, 'prices are very reasonable': 3, 'drive thru': 3, 'great meal': 3, 'briam': 3, 'doughnuts': 3, 'greek wine': 3, 'sports bars': 3, 'nice atmosphere': 3, 'thassos': 3, 'a great evening': 3, 'fish restaurant': 3, 'recommend this restaurant': 3, 'middle eastern': 3, 'sorbet': 3, 'garlic naan': 3, 'wonderful evening': 3, 'donuts': 3, 'burrito': 3, 'greek cuisine': 3, 'profiteroles': 3, 'top floor': 3, 'homemade ice cream': 3, 'charcuterie': 3, 'amazing cocktails': 3, 'jazz bar': 3, 'beans': 3, 'wonderful view': 3, 'lovely taverna': 3, 'local wine': 3, 'spicy meatballs': 3, 'fresh pasta': 3, 'noodles': 3, 'focaccia': 3, 'light lunch': 3, 'portions': 3, 'fried courgettes': 3, 'stuffed squid': 3, 'authentic greek food': 3, 'excellent coffee': 3, 'food is excellent': 3, 'lasagna': 3, 'soutzoukakia': 3, 'wonderful restaurant': 3, 'homemade pasta': 3, 'local beer': 3, 'food was great': 3, 'homemade bread': 3, 'quick service': 3, 'desert': 3, 'potato fritters': 3, 'grilled calamari': 3, 'eastern european': 3, 'full english': 3, 'lovely restaurant': 3, 'first night': 3, 'chicken gyros': 3, 'best pizza': 3, 'lovely setting': 3, 'rabbit stifado': 3, 'rack of lamb': 3, 'sweet and sour chicken': 3, 'suckling pig': 3, 'nice place': 2, 'amazing garden': 2, 'kind staff': 2, 'fresh tuna': 2, 'her husband': 2, 'seafood saganaki': 2, 'wood oven': 2, 'perfect view': 2, 'beautiful sunset': 2, 'green salad': 2, 'sunday roast': 2, 'sweet tooth': 2, 'great little place': 2, 'warm welcome': 2, 'great bar': 2, 'comfy sunbeds': 2, 'mullet': 2, 'food was lovely': 2, 'raki': 2, 'the main street': 2, 'mash': 2, 'sunset view': 2, 'fava beans': 2, 'meat pie': 2, 'spit roast': 2, 'fresh salad': 2, 'boureki': 2, 'you won t be disappointed': 2, 'manouri cheese': 2, 'chef': 2, 'amazing location': 2, 'mixed fish': 2, 'fresh food': 2, 'sea front': 2, 'tomato paste': 2, 'excellent seafood': 2, 'amazing staff': 2, 'relaxed atmosphere': 2, 'baby squid': 2, 'amazing restaurant': 2, 'tsatsiki': 2, 'aegean': 2, 'lovely bar': 2, 'family run restaurant': 2, 'lovely little place': 2, 'service was impeccable': 2, 'roast lamb': 2, 'very friendly service': 2, 'great menu': 2, 'attentive service': 2, 'cheese croquettes': 2, 'lamp chops': 2, 'mushroom rice': 2, 'mushroom risotto': 2, 'meat dishes': 2, 'overlooking the beach': 2, 'excellent restaurant': 2, 'grilled chicken': 2, 'french': 2, 'turkish': 2, 'galaktoboureko': 2, 'seafood platter': 2, 'schnitzel': 2, 'antipasti': 2, 'pork tenderloin': 2, 'great dinner': 2, 'grouper': 2, 'tartare': 2, 'cajun & creole': 2, 'brisket': 2, 'mac and cheese': 2, 'ancient agora': 2, 'sandwich': 2, 'fish cakes': 2, 'asian cuisine': 2, 'open kitchen': 2, 'dumplings': 2, 'croque madame': 2, 'lemon tart': 2, 'irish': 2, 'dining bars': 2, 'great beer': 2, 'great greek food': 2, 'by the glass': 2, 'wild rice': 2, 'quirky decor': 2, 'samosas': 2, 'visiting athens': 2, 'gyro': 2, 'fried chicken': 2, 'peruvian': 2, 'smoked chicken': 2, 'butter chicken': 2, 'paneer': 2, 'giant beans': 2, 'italian dishes': 2, 'romantic dinner': 2, 'baked potato': 2, 'meze': 2, 'cretan wine': 2, 'spicy mango': 2, 'mezze board': 2, 'stew': 2, 'okra': 2, 'stuffed zucchini flowers': 2, 'complimentary dessert': 2, 'great place to eat': 2, 'roast potatoes': 2, 'chinese food': 2, 'definitely worth a visit': 2, 'lunch or dinner': 2, 'own garden': 2, 'lovely atmosphere': 2, 'nice coffee': 2, 'nachos': 2, 'all inclusive hotel': 2, 'white fish': 2, 'tuna carpaccio': 2, 'greek coffee': 2, 't bone': 2, 'plenty of sunbeds': 2, 'wait for a table': 2, 'balcony': 2, 'egg fried rice': 2, 'her daughter': 2, 'air hockey': 2, 'st george': 2, 'love this place': 2, 'stuffed burger': 2, 'brownie': 2, 'olive oil': 2, 'amazing dinner': 2, 'cozy place': 2, 'pancetta': 2, 'popular with locals': 2, 'smoothies': 2, 'comfortable sunbeds': 2, 'spanakopita': 2, 'calzone': 2, 'omelette': 2, 'port': 2, 'huge portions': 2, 'excellent service': 2, 'plums': 2, 'garlic lamb': 2, 'rhodes': 2, 'views': 2, 'spaghetti bolognese': 2, 'fish tavern': 2, 'special mention': 2, 'cheese': 2, 'stuffed tomatoes': 2, 'traditional taverna': 2, 'grilled shrimp': 2, 'local food': 2, 'peas': 2, 'walnut cake': 2, 'gorge': 2, 'lovely staff': 2, 'crab': 2, 'pyrgos village': 2, 'beef fillet': 2, 'bite to eat': 2, 'summer salad': 2, 'romana': 2, 'central-italian': 2, 'pappardelle': 2, 'amazing service': 2, 'across the road': 2, 'warm bread': 2, 'mashed potatoes': 2, 'southwestern': 2, 'arancini': 2, 'most nights': 2, 'george': 2, 'pork souvlaki': 2, 'tuna steak': 2, 'seafood spaghetti': 2, 'watch football': 2, 'greek platter': 2, 'pool area': 2, 'friendly bar': 2, 'goat chops': 2, 'his wife': 2, 'sunset': 2, 'toasted bread': 2, 'lobster spaghetti': 2, 'savory crepes': 2, 'definitely recommend this restaurant': 2, 'baguette': 2, 'tomato soup': 2, 'no pressure': 2, 'vegan menu': 2, 'dutch': 2, 'mykonos': 2, 'banoffee pie': 2, 'garlic mash': 2, 'kos': 2, 'pineapple': 2, 'monkfish': 2, 'village sausage': 2, 'complimentary ice cream': 2, 'lemon cheesecake': 2, 'courgette fritters': 2, 'oven': 2, 'at lunchtime': 2, 'scorpion fish': 2, 'authentic italian food': 2, 'evening meal': 2, 'bbq ribs': 1, 'roasted vegetables': 1, 'music': 1, 'waiters': 1, 'veal cheeks': 1, 'wine cellar': 1, 'set menu': 1, 'mango salad': 1, 'vietnamese rolls': 1, 'nice cocktails': 1, 'nice staff': 1, 'grilled tuna': 1, 'great seafood': 1, 'black rice': 1, 'stuffed kalamari': 1, 'nights in a row': 1, 'ox': 1, 'spicy shrimp': 1, 'ambient music': 1, 'oscar suites': 1, 'excellent italian restaurant': 1, 'tortillas': 1, 'herbs': 1, 'pork dish': 1, 'smoked cheese': 1, 'average restaurant': 1, 'watermelon salad': 1, 'staff were attentive': 1, 'rod stewart': 1, 'a late night snack': 1, 'most evenings': 1, 'see you next year': 1, 'a couple of times': 1, 'slow service': 1, 'nice garden': 1, 'family restaurant': 1, 'parrots': 1, 'mares': 1, 'ambience': 1, 'locals eat': 1, 'salt flats': 1, 'ordered medium': 1, 'alykes beach': 1, 'moni island': 1, 'beef stew': 1, 'home cooked food': 1, 'rooftop terrace': 1, 'appetizers': 1, 'rooftops': 1, 'wedding reception': 1, 'shrimp burger': 1, 'during happy hour': 1, 'nice spot': 1, 'large tv': 1, 'lovely beach restaurant': 1, 'large portions': 1, 'saturday night': 1, 'orange': 1, 'authentic greek cuisine': 1, 'sifnos': 1, 'attentive staff': 1, 'complimentary watermelon': 1, 'my boyfriend': 1, 'cocktail bar': 1, 'dip selection': 1, 'free ice cream': 1, 'beer': 1, 'pork steak': 1, 'wonderful sunset': 1, 'takeaway': 1, 'limnonari beach': 1, 'free of charge': 1, 'slice': 1, 'living room': 1, 'eros beach': 1, 'visit crete': 1, 'view of the bay': 1, 'visit hydra': 1, 'hydra': 1, 'street': 1, 'plateria': 1, 'garden': 1, 'mylopotas beach': 1, 'snacks and drinks': 1, 'view is amazing': 1, 'da vincis': 1, 'asian chicken wings': 1, 'ono': 1, 'great environment': 1, 'syros island': 1, 'beach bar restaurant': 1, 'watching the sunset': 1, 'margarita': 1, 'short walk': 1, 'mains': 1, 'orzo pasta': 1, 'crystal waters': 1, 'halki': 1, 'renieris hotel': 1, 'each meal': 1, 'kato gouves': 1, 'authentic cretan': 1, 'delicious meal': 1, 'greek banquet': 1, 'blue cheese sauce': 1, 'grilled salmon': 1, 'food bar': 1, 'polite staff': 1, 'seafood linguine': 1, 'frank': 1, 'an adventure': 1, 'traditional cretan': 1, 'every meal': 1, 'slow cooked lamb': 1, 'chose this place': 1, 'great price': 1, 'kalymnos': 1, 'quality offered': 1, 'pelagos': 1, 'greek families': 1, 'cooked perfectly': 1, 'high standard': 1, 'apple fritters': 1, 'home away from home': 1, 'rob': 1, 'mareblue resort': 1, 'friday and saturday': 1, 'lovely greek': 1, 'dont miss': 1, 'couscous': 1, 'lamb kebab': 1, 'traditional caves': 1, 'megalochori village': 1, 'potato skins': 1, 'lemon potatoes': 1, 'including drinks': 1, 'feta saganaki': 1, 'friendly welcome': 1, 'honey cake': 1, 'tiradito': 1, 'seafood dishes': 1, 'very small place': 1, 'frozen yogurt': 1, 'a family run business': 1, 'seaside': 1, 'ionian sea': 1, 'cats': 1, 'my gf': 1, 'planes landing': 1, 'great place to watch the sun': 1, 'the young lady serving': 1, 'amazing italian food': 1, 'pork and chicken': 1, 'grilled prawns': 1, 'wonderful family': 1, 'beautiful courtyard setting': 1, 'gourmet restaurant': 1, 'red velvet pancakes': 1, 'sit outside': 1, 'black pig': 1, 'baby pork': 1, 'live greek music': 1, 'sani marina': 1, 'family holiday': 1, 'macedonia': 1, 'our week stay': 1, 'offered raki': 1, 'great traditional restaurant': 1, 'oldest restaurant': 1, 'kalafati beach': 1, 'tasty traditional greek food': 1, 'summer holidays': 1, 'by the bottle': 1, 'standard greek taverna': 1, 'excellent italian food': 1, 'both occasions': 1, 'washing machine': 1, 'down to earth': 1, 'met george': 1, 'arrived minutes': 1, 'strong winds': 1, 'christos': 1, 'plaka beach': 1, 'naxos island': 1, 'halloumi cheese': 1, 'nikitas': 1, 'quality food': 1, 'well worth the trip': 1, 'parga bay': 1, 'your feet': 1, 'service attentive': 1, 'taverna serves': 1, 'off the beaten track': 1, 'an ideal place': 1, 'a late lunch': 1, 'small menu': 1, 'super tasty': 1, 'foie gras': 1, 'tablecloths': 1, 'tourists': 1, 'waiter': 1, 'local guide': 1, 'crowne plaza': 1, 'trees': 1, 'tagine': 1, 'talagani cheese': 1, 'pita wrap': 1, 'greek omelet': 1, 'cappuccino': 1, 'tour group': 1, 'friendly atmosphere': 1, 'biryani': 1, 'indian food in athens': 1, 'lentil salad': 1, 'nice bar restaurant': 1, 'designed place': 1, 'sponge cake': 1, 'terrine': 1, 'gyro wrap': 1, 'dine with a local chef': 1, 'stuffed zucchini': 1, 'avgolemono': 1, 'an unforgettable experience': 1, 'real taste': 1, 'drunken noodles': 1, 'pat thai': 1, 'tom yum': 1, 'sashimi': 1, 'quality sushi': 1, 'oysters': 1, 'tataki': 1, 'bread basket': 1, 'lovely view of the acropolis': 1, 'amazing coffee': 1, 'bakery': 1, 'chilli con carne': 1, 'mexican restaurant': 1, 'quinoa salad': 1, 'papaya salad': 1, 'edamame': 1, 'creative dishes': 1, 'smoked meat': 1, 'south american': 1, 'black mamba': 1, 'gnocchi': 1, 'beef burger': 1, 'connie': 1, 'quiche': 1, 'acropolis museum': 1, 'lemon sorbet': 1, 'wagyu': 1, 'mini burgers': 1, 'michelin guide': 1, 'gastronomic experience': 1, 'naan': 1, 'lamb curry': 1, 'bombay aloo': 1, 'beef cheeks': 1, 'guinness pie': 1, 'wings': 1, 'flea market': 1, 'pint': 1, 'rooftop bar': 1, 'monastiraki square': 1, 'delicious dinner': 1, 'average food': 1, 'fish ceviche': 1, 'kolonaki area': 1, 'pollock': 1, 'modern greek food': 1, 'chicken burger': 1, 'thali': 1, 'chicken korma': 1, 'great indian food': 1, 'veg': 1, 'rooftop restaurant': 1, 'athens hilton': 1, 'plaka area': 1, 'korean': 1, 'bibimbap': 1, 'pear tart': 1, 'skirt steak': 1, 'great view of the acropolis': 1, 'rooftop': 1, 'black beans': 1, 'fun dinner': 1, 'best indian': 1, 'punjabi': 1, 'warm atmosphere': 1, 'amazing decoration': 1, 'finger food': 1, 'nice drinks': 1, 'avocado toast': 1, 'meatball appetizer': 1, 'koukaki': 1, 'cheese board': 1, 'homemade chutney': 1, 'octopus salad': 1, 'fresh hotel': 1, 'wine list is': 1, 'downtown athens': 1, 'soba noodles': 1, 'mackerel': 1, 'sirloin': 1, 'tomato bread': 1, 'causa': 1, 'manchego cheese': 1, 'gulab jamun': 1, 'mango': 1, 'owned restaurant': 1, 'overlooking the valley': 1, 'owner': 1, 'view over the lake': 1, 'beautiful setting': 1, 'lake': 1, 'overlooking the lake': 1, 'mixed starter': 1, 'miramare': 1, 'meze dishes': 1, 'marina': 1, 'bougainvillea': 1, 'pasta place': 1, 'cretan pasta': 1, 'cheeseburger': 1, 'tasty vegan food': 1, 'beetroot carpaccio': 1, 'byob': 1, 'sauce': 1, 'crete': 1, 'daily specials': 1, 'spinach pie': 1, 'cretan salad': 1, 'garlic shrimp': 1, 'local greens': 1, 'bruschettas': 1, 'apple pie': 1, 'moroccan lamb': 1, 'sausage platter': 1, 'greek burger': 1, 'craft ales': 1, 'aubergine dip': 1, 'perfect location': 1, 'elevated position': 1, 'elounda bay': 1, 'fried snails': 1, 'cretan coast': 1, 'favourite bar': 1, 'young waitress': 1, 'pre dinner cocktails': 1, 'excellent fish': 1, 'fish of the day': 1, 'fried dough': 1, 'beef patties': 1, 'quality dishes': 1, 'fantastic lunch': 1, 'balti': 1, 'poppadoms': 1, 'masala': 1, 'stalis': 1, 'eat greek': 1, 'beautiful garden': 1, 'our waiter': 1, 'huge parking': 1, 'boutique hotel': 1, 'an incredible view': 1, 'meze plates': 1, 'small plates': 1, 'seafood plate': 1, 'fountain': 1, 'beach service': 1, 'seafront': 1, 'personnel': 1, 'baked eggplant': 1, 'zucchini flowers': 1, 'excellent gyros': 1, 'positive energy': 1, 'stuffed onions': 1, 'cat lover': 1, 'a unique dining experience': 1, 'nice service': 1, 'small port': 1, 'king crab': 1, 'short ribs': 1, 'kouros hotel': 1, 'churros': 1, 'the grill': 1, 'great place for coffee': 1, 'pelagos hotel': 1, 'rustic greek': 1, 'dinner on the beach': 1, 'great taverna': 1, 'traditional dishes': 1, 'located right': 1, 'black risotto': 1, 'stuffed zucchini blossoms': 1, 'skala': 1, 'veal meatballs': 1, 'hidden gem of a restaurant': 1, 'black angus steak': 1, 'grilled feta': 1, 'food was fantastic': 1, 'lindos': 1, 'visit symi': 1, 'brothers': 1, 'concrete': 1, 'valtos beach': 1, 'prices are reasonable': 1, 'castle': 1, 'cantonese': 1, 'excellent traditional greek food': 1, 'kolokithokeftedes': 1, 'aubergine salad': 1, 'beef steak': 1, 'courgette flowers': 1, 'sarakiniko beach': 1, 'local producers': 1, 'chicken pie': 1, 'frog legs': 1, 'long island': 1, 'business dinner': 1, 'smoked trout': 1, 'small harbour': 1, 'picturesque setting': 1, 'super fast service': 1, 'high level': 1, 'kathisma beach': 1, 'alla livornese': 1, 'taverna offers': 1, 'spent several hours': 1, 'lounge cafe': 1, 'tiny island': 1, 'blue sea': 1, 'zakynthos town': 1, 'thank you so much': 1, 'table': 1, 'smoked mackerel': 1, 'wrap': 1, 'tower': 1, 'tasty': 1, 'food and wine': 1, 'upper city': 1, 'old city': 1, 'typical greek': 1, 'crepes suzette': 1, 'rice soup': 1, 'tripe': 1, 'vinegar': 1, 'city': 1, 'bao buns': 1, 'warmly recommend this place': 1, 'seasonal menu': 1, 'napoli style': 1, 'first floor': 1, 'ano poli': 1, 'fried olives': 1, 'smoked pork chop': 1, 'vegetable soup': 1, 'sea bass carpaccio': 1, 'handmade pasta': 1, 'porcini': 1, 'real italian restaurant': 1, 'al dente': 1, 'organic ingredients': 1, 'magical setting': 1, 'greek specials': 1, 'stella': 1, 'swim': 1, 'fish swimming': 1, 'every summer': 1, 'green pasta': 1, 'fresh lemonade': 1, 'beaches': 1, 'loungers': 1, 'old village': 1, 'every evening': 1, 'stafylos beach': 1, 'skopelos town': 1, 'pomegranate': 1, 'courtyard': 1, 'beautiful family': 1, 'couple of hours': 1, 'the kitchen': 1, 'bougatsa': 1, 'gastronomic adventure': 1, 'menu is extensive': 1, 'unique taste': 1, 'parpadelle': 1, 'multiple times': 1, 'wonderful fish': 1, 'brownie and ice cream': 1, 'garden salad': 1, 'traditional place': 1, 'greek islands': 1, 'shrimp salad': 1, 'melenos lindos': 1, 'lindos bay': 1, 'acropolis': 1, 'thai green curry': 1, 'just the right amount': 1, 'granita': 1, 'chicken pizza': 1, 'rhodes town': 1, 'beautiful island': 1, 'kala': 1, 'great cretan food': 1, 'meat lovers': 1, 'road': 1, 'tinos': 1, 'town': 1, 'small restaurant': 1, 'superb food': 1, 'craft': 1, 'beers': 1, 'brioche': 1, 'small balcony': 1, 'nice dinner': 1, 'wild mushrooms': 1, 'family driven restaurant': 1, 'chops': 1, 'birds singing': 1, 'beef soup': 1, 'visit meteora': 1, 'hospitality': 1, 'homemade': 1, 'private parking': 1, 'definitely recommend this place': 1, 'bbq': 1, 'taco': 1, 'great margaritas': 1, 'preveli beach': 1, 'old bridge': 1, 'small river': 1, 'recommend stopping here': 1, 'sweets': 1, 'fosse': 1, 'chicken salad': 1, 'lunch time': 1, 'vathy': 1, 'smile': 1, 'kalamata': 1, 'bad weather': 1, 'budget permits': 1, 'fishing boats': 1, 'penne': 1, 'fantastic food and service': 1, 'lobster night': 1, 'pepper sauce': 1, 'authentic cretan food': 1, 'staka': 1, 'salmon tartare': 1, 'local fishing boats': 1, 'top class': 1, 'wild boar': 1, 'roast pork': 1, 'stone oven': 1, 'day trip': 1, 'little bit': 1, 'parrot fish': 1, 'mizithra': 1, 'lovely music': 1, 'mediterranean style': 1, 'beautiful environment': 1, 'fishing': 1, 'english songs': 1, 'nearby hotel': 1, 'marbella hotel': 1, 'don t expect': 1, 'sea food restaurant': 1, 'olive oil and lemon': 1, 'an impressive wine list': 1, 'manchester city': 1, 'champions league game': 1, 'at reasonable prices': 1, 'vegetarian food': 1, 'white eggplant': 1, 'free dessert': 1, 'recommend eating here': 1, 'lazio': 1, 'tartufo': 1, 'sunset drinks': 1, 'greek street': 1, 'chips': 1, 'zhejiang': 1, 'last summer': 1, 'extended family': 1, 'local ingredients': 1, 'his customers': 1, 'lovely garden': 1, 'modern twist': 1, 'pomegranate salad': 1, 'surrounding area': 1, 'tree': 1, 'free watermelon': 1, 'bakeries': 1, 'grill house': 1, 'star beach': 1, 'lovely pool': 1, 'an umbrella': 1, 'great facilities': 1, 'mixed grill platter': 1, 'fantastic food and drinks': 1, 'town square': 1, 'paella': 1, 'home baked bread': 1, 'creta maris': 1, 'great fresh fish': 1, 'don t miss': 1, 'an oasis': 1, 'charming courtyard': 1, 'ample selection': 1, 'taste combinations': 1, 'full house': 1, 'made us feel': 1, 'true greek': 1, 'breathtaking views': 1, 'kani salad': 1, 'golden dragon': 1, 'chimichanga': 1, 'street tacos': 1, 'cherry tomatoes': 1, 'italian restaurant': 1, 'giouvetsi': 1, 'eating fish': 1, 'great brunch': 1, 'menus': 1, 'euro': 1, 'location': 1, 'crispy rice': 1, 'japanese restaurant': 1, 'nobu restaurants': 1, 'italian restaurant in athens': 1, 'similar places': 1, 'saltimbocca alla romana': 1, 'environment': 1, 'lobster gnocchi': 1, 'agios prokopios': 1, 'crystal clear water': 1, 'small alley': 1, 'quaint restaurant': 1, 'sun dried tomatoes': 1, 'perfect food': 1, 'sommelier': 1, 'syros': 1, 'grilled watermelon': 1, 'limited menu': 1, 'a real gem': 1, 'friday night': 1, 'wonderful lunch': 1, 'cypriot salad': 1, 'quiet garden': 1, 'chicken kiev': 1, 'beautiful atmosphere': 1, 'walnuts': 1, 'yannis': 1, 'mussels saganaki': 1, 'lemon sauce': 1, 'fira': 1, 'service was great': 1, 'the wood burning oven': 1, 'black beach': 1, 'fish plate': 1, 'great for people watching': 1, 'breakfast selection': 1, 'snacks': 1, 'daniella': 1, 'chicken fajitas': 1, 'chocolate souffle': 1, 'gyro plate': 1, 'crab cakes': 1, 'pork shank': 1, 'scandinavian': 1, 'couscous salad': 1, 'romantic meal': 1, 'lounge music': 1, 'great grill': 1, 'italian cuisine': 1, 'week vacation': 1, 'banana fritters': 1, 'extensive menu': 1, 'ixia': 1, 'friendly waiter': 1, 'screens showing': 1, 'authentic greek': 1, 'rhodes old town': 1, 'leonidas': 1, 'september': 1, 'chicken ballotine': 1, 'tv screens': 1, 'traditional greek restaurant': 1, 'local red wine': 1, 'football match': 1, 'sports': 1, 'belair beach hotel': 1, 'sense of humour': 1, 'polite personnel': 1, 'seven springs': 1, 'peacocks walking': 1, 'natural surroundings': 1, 'dappled shade': 1, 'welcoming atmosphere': 1, 'king scallops': 1, 'chef cooks': 1, 'cake and ice cream': 1, 'mythos beer': 1, 'seaside hotel': 1, 'between courses': 1, 'lamb moussaka': 1, 'mousse': 1, 'heliotopos hotel': 1, 'natural cave': 1, 'cocktail menu': 1, 'romantic evening': 1, 'infinity pool': 1, 'delicious desserts': 1, 'visiting santorini': 1, 'emerald villas': 1, 'set high': 1, 'private beach': 1, 'amazing setting': 1, 'grill restaurant': 1, 'marianna': 1, 'vegetables and fruits': 1, 'grilled cuttlefish': 1, 'the hustle and bustle': 1, 'previous years': 1, 'this lovely restaurant': 1, 'osso bucco': 1, 'making our dining experience': 1, 'tagliata': 1, 'great setting': 1, 'chocolate soup': 1, 'sea bass ceviche': 1, 'celeriac puree': 1, 'chicken wings': 1, 'thai curry': 1, 'traditional cafe': 1, 'great portions': 1, 'staff were amazing': 1, 'thin crust': 1, 'one night': 1, 'his son': 1, 'his team': 1, 'amazones villas': 1, 'lovely place to relax': 1, 'fantastic views': 1, 'waiter service on the beach': 1, 'crazy golf': 1, \"can't comment on the food\": 1, 'lovely cocktails': 1, 'masala tea': 1, 'indian food': 1, 'mediterranean chicken': 1, 'polite service': 1, 'visited casa': 1, 'steep road': 1, 'lovely experience': 1, 'perfect dinner': 1, 'greek breakfast': 1, 'sun beds on the beach': 1, 'di mare': 1, 'matala beach': 1, 'stingrays': 1, 'fruit platter': 1, 'super paradise beach': 1, 'drag show': 1, 'platter': 1, 'wedges': 1, 'green curry': 1, 'irish pub': 1, 'lanterns': 1, 'a great place to spend': 1, 'kings': 1, 'grill fish': 1, 'amazing meal': 1, 'dough balls': 1, 'burguer': 1, 'zante': 1, 'chicken dish': 1, 'antonis pool bar': 1, 'presented food': 1, 'traditional greek taverna': 1, 'the main strip': 1, 'friendly restaurant': 1, 'steak pie': 1, 'pukka pie': 1, 'coleslaw': 1, 'mars bar cheesecake': 1, 'underwater lights': 1, 'lamb pie': 1, 'mixed seafood': 1, 'lots of restaurants': 1, 'spring lamb': 1, 'phos': 1, 'bolognese': 1, 'surf and turf': 1, 'friendly place': 1, 'stam': 1, 'per day': 1, 'changing rooms': 1, 'terrace overlooking the sea': 1, 'liver and onions': 1, 'live entertainment': 1, 'great coffee': 1, 'tomato sauce': 1, 'village square': 1, 'main dish': 1, 'little venice': 1, 'crispy corn': 1, 'tuscan': 1, 'onion pie': 1, 'portion size': 1, 'banoffee': 1, 'chicken and pork': 1, 'dal makhani': 1, 'paradise beach': 1, 'burrata': 1, 'town hall square': 1, 'mezedes': 1, 'catfish': 1, 'goat cheese salad': 1, 'tournedos': 1, 'cod bites': 1, 'beef tagliata': 1, 'chocolate mousse': 1, 'halkidiki': 1, 'good idea': 1, 'romantic atmosphere': 1, 'pine trees': 1, 'fantastic music': 1, 'drinks menu': 1, 'tsatziki': 1, 'jacket potato': 1, 'second to none': 1, 'greek yogurt': 1, 'friendly staff and lovely food': 1, 'salt lake': 1, 'peppered fillet': 1, 'great banter': 1, 'filet mignon': 1, 'bread and olives': 1, 'tabbouleh': 1, 'sizzling beef': 1, 'dim sum': 1, 'tempura prawns': 1, 'peking duck': 1, 'mains desserts': 1, 'flambe': 1, 'h2o': 1, 'captains platter': 1, 'acai bowl': 1, 'french toast': 1, 'food alright': 1, 'lovely view of the harbour': 1, 'large mythos': 1, 'tuna salad': 1, 'excellent kitchen': 1, 'archaeological site': 1, 'chessecake': 1, 'anniversary meal': 1, 'free shots': 1, 'american style food': 1, 'draft mythos': 1, 'fabulous bar': 1, 'lava cake': 1, 'armenian': 1, 'kofte': 1, 'delivery service': 1, 'king prawn spaghetti': 1, 'kalogria beach': 1, 'matina hotel': 1, 'two weeks': 1, 'cold soup': 1, 'chocolate sphere': 1, 'play area': 1, 'whilst on holiday': 1, 'lovely traditional taverna': 1, 'greek music playing in the background': 1, 'great hospitality': 1, 'fantastic location': 1, 'ornos beach': 1, 'local cats': 1, 'few drinks': 1, 'karaoke': 1, 'steamed mussels': 1, 'square': 1, 'home cooked': 1, 'lovely square': 1, 'on tuesdays': 1, 'lunch and evening meals': 1, 'tender lamb': 1, 'nice bar': 1, 'lounge area': 1, 'three times': 1, 'good quality food': 1, 'fresh sea bass': 1, 'wonderful wine': 1, 'love food': 1, 'harbour edge': 1, 'spent a week': 1, 'toasties': 1, 'gyro platter': 1, 'music quiz': 1, 'great entertainment': 1, 'evening entertainment': 1, 'stuffed pork': 1, 'greek sausage': 1, 'lemon cake': 1, \"canal d'amour\": 1, 'the cliff': 1, 'spicy pork': 1, 'black pudding': 1, 'table tennis': 1, 'ping pong': 1, 'value for money': 1, 'dolma': 1, 'sami harbour': 1, 'fantastic cocktails': 1, 'great fun': 1, 'apple cake': 1, 'from the oven': 1, 'asterias village': 1, 'course menu': 1, 'brought to the table': 1, 'euros': 1, 'pottery village': 1, 'pizza restaurant': 1, 'big variation': 1, 'red sauce': 1, 'ouzo': 1, 'kalami beach': 1, 'frosso apartments': 1, 'homemade food': 1, 'table overlooking the sea': 1, 'panos': 1, 'crispy': 1, 'anne marie': 1, 'ermones beach': 1, 'the sun set': 1, 'lovely view': 1, 'greek dancers': 1, 'wedding venue': 1, 'dream wedding': 1, 'paprika chicken': 1, 'recipe book': 1, 'shin of beef': 1, 'beef stamna': 1, 'lemon and orange trees': 1, 'nice meal': 1, 'last year': 1, 'chocolate brownie': 1, 'greek meze': 1, 'free glass of wine': 1, 'homemade wine': 1, 'lamb shoulder': 1, 'cauliflower steak': 1, 'sofrito': 1, 'sea perch': 1, 'presentation': 1, 'corfu beer': 1, 'ate here a couple of times': 1, 'beef tips': 1, 'shrimp linguine': 1, 'duck spring rolls': 1, 'vegetarian moussaka': 1, 'filo pastry': 1, 'relaxed evening': 1, 'skiathos island': 1, 'mozzarella': 1, 'lady owner': 1, 'anatolia': 1, 'hake': 1, 'spicy mussels': 1, 'costa': 1, 'old harbour': 1, 'parchment paper': 1, 'skordalia': 1, 'sisters': 1, 'cuttlefish risotto': 1, 'corfu town': 1, 'couldn t': 1, 'dean': 1, 'garlic': 1, 'boat trip': 1, 'sun sets': 1, 'prawn linguine': 1, 'overlooking the harbour': 1, 'cocktails': 1, 'harbour side': 1, 'watching the world': 1, 'varied menu': 1, 'watch the boats': 1, 'people watching': 1, 'nice table': 1, 'olive bread': 1, 'whitebait': 1, 'greek experience': 1, 'his lovely wife': 1, 'beautiful oasis': 1, 'lovely greek music': 1, 'grilled dorado': 1, 'aubergine': 1, 'village': 1, 'agios': 1, 'pasquale': 1, 'kefalonian meat pie': 1, 'hot chocolate': 1, 'comfortable terrace': 1, 'amazing experience': 1, 'mykonos town': 1, 'dish': 1, 'the bus': 1, 'family business': 1, 'wonderful food': 1, 'water': 1, 'shadow': 1, 'agios georgios': 1, 'tiny village': 1, 'wonderful hospitality': 1, 'honey': 1, 'orange salad': 1, 'blue lagoon village': 1, 'filo parcels': 1, 'an evening meal': 1, 'cheese pie': 1, 'cuttlefish ink': 1, 'scrambled eggs': 1, 'background music': 1, 'visit poros': 1, 'friendly staff and delicious food': 1, 'special occasion': 1})\n"
          ]
        }
      ],
      "source": [
        "import pandas as pd\n",
        "from collections import Counter\n",
        "\n",
        "\n",
        "# Function to split awards and count them\n",
        "def count_awards(awards_column):\n",
        "    # Split each entry in the column by commas and flatten the result\n",
        "    all_awards = [award.strip() for entry in awards_column if type(entry) == str for award in entry.split(',')]\n",
        "\n",
        "    # Use Counter to count occurrences of each award\n",
        "    award_count = Counter(all_awards)\n",
        "\n",
        "    return award_count\n",
        "\n",
        "# Apply the function\n",
        "top_counts = count_awards(df2['to_new_data'])\n",
        "\n",
        "print(top_counts)"
      ]
    },
    {
      "cell_type": "code",
      "execution_count": 10,
      "metadata": {
        "id": "YIxdYtT7NGV4"
      },
      "outputs": [],
      "source": [
        "valid_terms = {k: v for k, v in top_counts.items() if v >= 100}# threshold\n",
        "\n",
        "# Ensure 'to_new_data' is treated as a string before applying .lower()\n",
        "for term in valid_terms.keys():\n",
        "    df2[term] = df2['to_new_data'].astype(str).apply(lambda x: 1 if term in x.lower() else 0)\n",
        "\n"
      ]
    },
    {
      "cell_type": "code",
      "execution_count": 11,
      "metadata": {
        "id": "NEF0nQgxNntr"
      },
      "outputs": [],
      "source": [
        "set(df2['price_level'].values)\n",
        "df2['price_level'] = df2['price_level'].map({'€': 1, '€€-€€€': 2.5, '€€€€': 4})"
      ]
    },
    {
      "cell_type": "code",
      "execution_count": 12,
      "metadata": {
        "id": "V7a3pt1kcSx4"
      },
      "outputs": [],
      "source": [
        "import ast\n",
        "from datetime import datetime\n",
        "# Function to extract opening and closing times\n",
        "def extract_hours(opening_hours, day):\n",
        "    if pd.isna(opening_hours):\n",
        "        return None, None  # Handle NaN values\n",
        "    try:\n",
        "        hours_dict = ast.literal_eval(opening_hours)  # Convert string to dictionary\n",
        "        if day in hours_dict and hours_dict[day]:  # Ensure key exists and has values\n",
        "            open_time, close_time = hours_dict[day][0].split('-')\n",
        "            open_time, close_time = datetime.strptime(open_time, '%H:%M').time(), datetime.strptime(close_time, '%H:%M').time()\n",
        "            return open_time, close_time\n",
        "    except (ValueError, SyntaxError, KeyError, IndexError):\n",
        "        return None, None  # Handle invalid or missing data\n",
        "    return None, None\n",
        "\n",
        "# List of days\n",
        "days = [\"Mon\", \"Tue\", \"Wed\", \"Thu\", \"Fri\", \"Sat\", \"Sun\"]\n",
        "\n",
        "# Extract opening and closing times for each day\n",
        "for day in days:\n",
        "    df2[f\"{day}_op\"], df2[f\"{day}_clo\"] = zip(*df2[\"original_open_hours\"].apply(lambda x: extract_hours(x, day)))\n",
        "\n",
        "# Drop the original column if no longer needed\n",
        "df2.drop(columns=[\"original_open_hours\"], inplace=True)\n"
      ]
    },
    {
      "cell_type": "code",
      "execution_count": 13,
      "metadata": {
        "id": "nPmXIvRhrEmF"
      },
      "outputs": [],
      "source": [
        "df2['default_language'] = df2['default_language'].map({'English': 0, 'All languages': 1})"
      ]
    },
    {
      "cell_type": "code",
      "execution_count": 14,
      "metadata": {
        "id": "HSG2vytDi2IS"
      },
      "outputs": [],
      "source": [
        "def extract_prices(price_range):\n",
        "    if pd.isna(price_range):\n",
        "        return np.nan, np.nan  # Keep NaN for missing values\n",
        "    else:\n",
        "      prices = price_range.replace(\"€\", \"\").replace(\",\", \"\").split(\"-\")  # Remove € and split\n",
        "    return [int(prices[0]), int(prices[1])]  # Convert to integers\n",
        "\n",
        "# Apply function and create new columns\n",
        "df2[\"min_price\"] =[extract_prices(cell)[0] for cell in df2[\"price_range\"]]\n",
        "df2[\"max_price\"] =[extract_prices(cell)[1] for cell in df2[\"price_range\"]]\n"
      ]
    },
    {
      "cell_type": "code",
      "execution_count": 15,
      "metadata": {
        "id": "py39HLajHB1G"
      },
      "outputs": [],
      "source": [
        "df2.to_csv('/content/drive/MyDrive/Trip Advisor EU restaurants /first_try.csv', index=False)"
      ]
    },
    {
      "cell_type": "code",
      "execution_count": 16,
      "metadata": {
        "id": "6ssLq94LZXAQ",
        "colab": {
          "base_uri": "https://localhost:8080/"
        },
        "outputId": "a5ac3f08-4360-4656-8541-8360dede8808"
      },
      "outputs": [
        {
          "output_type": "stream",
          "name": "stdout",
          "text": [
            "<class 'pandas.core.frame.DataFrame'>\n",
            "Index: 25503 entries, 952974 to 986735\n",
            "Columns: 112 entries, restaurant_link to max_price\n",
            "dtypes: float64(22), int64(52), object(38)\n",
            "memory usage: 22.0+ MB\n"
          ]
        }
      ],
      "source": [
        "df2.info()"
      ]
    },
    {
      "cell_type": "code",
      "execution_count": 17,
      "metadata": {
        "id": "iqM7M5HO3zC9",
        "colab": {
          "base_uri": "https://localhost:8080/"
        },
        "outputId": "48a2d209-e5e5-48d7-b055-01bf73fc0019"
      },
      "outputs": [
        {
          "output_type": "stream",
          "name": "stdout",
          "text": [
            "Counter({'mediterranean': 2051, 'greek': 1790, 'vegetarian friendly': 1452, 'seafood': 1369, 'seating': 1217, 'serves alcohol': 1217, 'table service': 1211, 'dinner': 1194, 'lunch': 1163, 'outdoor seating': 1143, 'vegan options': 1133, 'reservations': 1113, 'free wifi': 1092, 'mid-range': 1017, 'highchairs available': 930, 'gluten free options': 917, 'accepts credit cards': 889, 'wheelchair accessible': 832, 'full bar': 789, 'european': 725, 'takeout': 623, 'after-hours': 601, 'brunch': 544, 'wine and beer': 453, 'drinks': 398, 'accepts visa': 397, 'accepts mastercard': 388, 'salad': 353, 'breakfast': 346, 'pizza': 297, 'parking available': 282, 'international': 238, 'healthy': 230, 'bar': 228, 'accepts american express': 222, 'street parking': 207, 'italian': 184, 'waterfront': 168, 'cheap eats': 161, 'free off-street parking': 157, 'greek salad': 157, 'television': 156, 'digital payments': 151, 'cash only': 144, 'moussaka': 143, 'cafe': 142, 'fresh fish': 119, 'bread': 119, 'grill': 112, 'delivery': 102, 'live music': 100, 'lamb': 96, 'octopus': 95, 'barbecue': 95, 'sea bass': 82, 'steak': 82, 'validated parking': 78, 'chicken': 69, 'calamari': 68, 'fine dining': 67, 'accepts discover': 61, 'beach': 61, 'gyros': 58, 'sushi': 57, 'burger': 56, 'mixed grill': 55, 'fries': 53, 'potatoes': 52, 'asian': 51, 'fast food': 50, 'souvlaki': 47, 'ate here': 47, 'pasta': 46, 'prawns': 46, 'mussels': 44, 'pork': 44, 'steakhouse': 44, 'wine bar': 43, 'fish': 41, 'family style': 40, 'ice cream': 40, 'the owner': 38, 'sea bream': 36, 'pub': 36, 'kleftiko': 36, 'risotto': 35, 'contemporary': 33, 'shrimp': 32, 'playgrounds': 31, 'sardines': 31, 'meatballs': 28, 'garlic bread': 28, 'delicious food': 28, 'baklava': 28, 'japanese': 28, 'cheesecake': 28, 'rice': 27, 'gift cards available': 26, 'tzatziki': 26, 'salmon': 25, 'stifado': 25, 'chinese': 25, 'buffet': 24, 'spaghetti': 24, 'saganaki': 24, 'dog friendly': 24, 'old town': 24, 'diner': 23, 'cake': 23, 'lamb chops': 23, 'excellent food': 22, 'ribs': 22, 'great view': 22, 'grilled octopus': 21, 'goat': 20, 'american': 20, 'non-smoking restaurants': 19, 'valet parking': 19, 'beef': 19, 'fusion': 19, 'pancakes': 19, 'red snapper': 18, 'amazing food': 18, 'indian': 18, 'fruit': 17, 'pie': 17, 'cakes': 17, 'yogurt': 16, 'halloumi': 16, 'lamb kleftiko': 16, 'mexican': 16, 'island': 16, 'hummus': 16, 'private dining': 15, 'thai': 15, 'tiramisu': 15, 'pitta': 15, 'lobster': 14, 'tasty food': 14, 'dessert': 14, 'great food': 14, 'lamb shank': 14, 'british': 13, 'club sandwich': 13, 'neapolitan': 13, 'tuna': 13, 'swordfish': 13, 'friendly service': 13, 'sea': 12, 'during our stay': 12, 'crepes': 12, 'lovely food': 12, 'campania': 12, 'southern-italian': 12, 'carbonara': 12, 'orange cake': 11, 'nice view': 10, 'next year': 10, 'great restaurant': 10, 'pita bread': 10, 'view': 10, 'last night': 10, 'scallops': 10, 'bruschetta': 10, 'grilled vegetables': 9, 'taramasalata': 9, 'grilled sardines': 9, 'chicken souvlaki': 9, 'beach bar': 9, 'beautiful place': 9, 'great cocktails': 9, 'big portions': 9, 'street food': 9, 'nice food': 9, 'pasta dishes': 9, 'soups': 9, 'ceviche': 9, 'beautiful view': 8, 'sea view': 8, 'giros': 8, 'pork chop': 8, 'italian food': 8, 'snails': 8, 'greek night': 8, 'zucchini balls': 8, 'deli': 8, 'wine list': 8, 'truffle': 8, 'kebab': 8, 'latin': 8, 'beautiful restaurant': 8, 'watermelon': 7, 'overlooking the sea': 7, 'food was amazing': 7, 'great atmosphere': 7, 'traditional greek food': 7, 'potato balls': 7, 'santorini salad': 7, 'king prawns': 7, 'nice restaurant': 7, 'red mullet': 7, 'dishes': 7, 'every night': 7, 'curry': 7, 'visited this restaurant': 7, 'greek dancing': 7, 'rabbit': 7, 'stuffed calamari': 7, 'stuffed chicken': 7, 'seafood risotto': 7, 'fried potatoes': 7, 'tasting menu': 6, 'lemon pie': 6, 'tapas': 6, 'central european': 6, 'pies': 6, 'stuffed peppers': 6, 'panna cotta': 6, 'linguine': 6, 'orzo': 6, 'house wine': 6, 'home made': 6, 'soup': 6, 'stuffed vine leaves': 6, 'baked feta': 6, 'watch the sunset': 6, 'halal': 6, 'falafel': 6, 'amuse bouche': 6, 'quick bites': 6, 'spring rolls': 6, 'cod': 6, 'eggplant': 6, 'brew pub': 6, 'prosciutto': 6, 'liver': 6, 'ravioli': 6, 'beach front': 6, 'holiday': 6, 'veal': 5, 'fantastic food': 5, 'nice location': 5, 'cooked to perfection': 5, 'mixed souvlaki': 5, 'croquettes': 5, 'skewers': 5, 'the main road': 5, 'fillet steak': 5, 'the food is great': 5, 'chocolate cake': 5, 'fast service': 5, 'place to eat': 5, 'amazing views': 5, 'santorini': 5, 'waters edge': 5, 'fried zucchini': 5, 'free sunbeds': 5, 'shrimp saganaki': 5, 'pastitsio': 5, 'zucchini fritters': 5, 'lovely meal': 5, 'filet': 5, 'sandwiches': 5, 'great lunch': 5, 'an amazing view': 5, 'octopus carpaccio': 5, 'carpaccio': 5, 'chateaubriand': 5, 'musaka': 5, 'wraps': 5, 'mille feuille': 5, 'great food and service': 5, 'homemade chips': 5, 'central american': 5, 'fajitas': 5, 'sun loungers': 5, 'stuffed aubergine': 5, 'stuffed mushrooms': 4, 'vietnamese': 4, 'pad thai': 4, 'fresh seafood': 4, 'service was excellent': 4, 'dakos': 4, 'stunning views': 4, 'meat platter': 4, 't bone steak': 4, 'mexican food': 4, 'delicious dishes': 4, 'waffles': 4, 'fresh ingredients': 4, 'greece': 4, 'harbour front': 4, 'calamares': 4, 'homemade lemonade': 4, 'dolmades': 4, 'grilled squid': 4, 'corfu': 4, 'melon': 4, 'family run': 4, 'tzaziki': 4, 'the main square': 4, 'courgette balls': 4, 'beautiful location': 4, 'bream': 4, 'lebanese': 4, 'pastry': 4, 'thai food': 4, 'gastropub': 4, 'tacos': 4, 'duck': 4, 'roof terrace': 4, 'acropolis view': 4, 'pork belly': 4, 'starters': 4, 'fish soup': 4, 'tuna tartare': 4, 'seafood pasta': 4, 'amazing place': 4, 'chilli': 4, 'watch the world': 4, 'romantic setting': 4, 'main course': 4, 'arabic': 4, 'beef stifado': 4, 'tavern': 4, 'grilled meat': 4, 'beef carpaccio': 4, 'old port': 4, 'cheese balls': 4, 'belly pork': 4, 'spare ribs': 3, 'bao': 3, 'cuttlefish': 3, 'mini golf': 3, 'sunbeds and umbrellas': 3, 'fish and chips': 3, 'english breakfast': 3, 'prawn saganaki': 3, 'lovely place': 3, 'guacamole': 3, 'plate smashing': 3, 'rosé': 3, 'lovely family': 3, 'grilled sea bream': 3, 'harbour': 3, 'excellent view': 3, 'souvlakis': 3, 'meat': 3, 'generous portions': 3, 'fried calamari': 3, 'well worth a visit': 3, 'traditional food': 3, 'beach club': 3, 'portions are huge': 3, 'lovely evening': 3, 'tribute acts': 3, 'beautiful beach': 3, 'prices are very reasonable': 3, 'drive thru': 3, 'great meal': 3, 'briam': 3, 'doughnuts': 3, 'greek wine': 3, 'sports bars': 3, 'nice atmosphere': 3, 'thassos': 3, 'a great evening': 3, 'fish restaurant': 3, 'recommend this restaurant': 3, 'middle eastern': 3, 'sorbet': 3, 'garlic naan': 3, 'wonderful evening': 3, 'donuts': 3, 'burrito': 3, 'greek cuisine': 3, 'profiteroles': 3, 'top floor': 3, 'homemade ice cream': 3, 'charcuterie': 3, 'amazing cocktails': 3, 'jazz bar': 3, 'beans': 3, 'wonderful view': 3, 'lovely taverna': 3, 'local wine': 3, 'spicy meatballs': 3, 'fresh pasta': 3, 'noodles': 3, 'focaccia': 3, 'light lunch': 3, 'portions': 3, 'fried courgettes': 3, 'stuffed squid': 3, 'authentic greek food': 3, 'excellent coffee': 3, 'food is excellent': 3, 'lasagna': 3, 'soutzoukakia': 3, 'wonderful restaurant': 3, 'homemade pasta': 3, 'local beer': 3, 'food was great': 3, 'homemade bread': 3, 'quick service': 3, 'desert': 3, 'potato fritters': 3, 'grilled calamari': 3, 'eastern european': 3, 'full english': 3, 'lovely restaurant': 3, 'first night': 3, 'chicken gyros': 3, 'best pizza': 3, 'lovely setting': 3, 'rabbit stifado': 3, 'rack of lamb': 3, 'sweet and sour chicken': 3, 'suckling pig': 3, 'nice place': 2, 'amazing garden': 2, 'kind staff': 2, 'fresh tuna': 2, 'her husband': 2, 'seafood saganaki': 2, 'wood oven': 2, 'perfect view': 2, 'beautiful sunset': 2, 'green salad': 2, 'sunday roast': 2, 'sweet tooth': 2, 'great little place': 2, 'warm welcome': 2, 'great bar': 2, 'comfy sunbeds': 2, 'mullet': 2, 'food was lovely': 2, 'raki': 2, 'the main street': 2, 'mash': 2, 'sunset view': 2, 'fava beans': 2, 'meat pie': 2, 'spit roast': 2, 'fresh salad': 2, 'boureki': 2, 'you won t be disappointed': 2, 'manouri cheese': 2, 'chef': 2, 'amazing location': 2, 'mixed fish': 2, 'fresh food': 2, 'sea front': 2, 'tomato paste': 2, 'excellent seafood': 2, 'amazing staff': 2, 'relaxed atmosphere': 2, 'baby squid': 2, 'amazing restaurant': 2, 'tsatsiki': 2, 'aegean': 2, 'lovely bar': 2, 'family run restaurant': 2, 'lovely little place': 2, 'service was impeccable': 2, 'roast lamb': 2, 'very friendly service': 2, 'great menu': 2, 'attentive service': 2, 'cheese croquettes': 2, 'lamp chops': 2, 'mushroom rice': 2, 'mushroom risotto': 2, 'meat dishes': 2, 'overlooking the beach': 2, 'excellent restaurant': 2, 'grilled chicken': 2, 'french': 2, 'turkish': 2, 'galaktoboureko': 2, 'seafood platter': 2, 'schnitzel': 2, 'antipasti': 2, 'pork tenderloin': 2, 'great dinner': 2, 'grouper': 2, 'tartare': 2, 'cajun & creole': 2, 'brisket': 2, 'mac and cheese': 2, 'ancient agora': 2, 'sandwich': 2, 'fish cakes': 2, 'asian cuisine': 2, 'open kitchen': 2, 'dumplings': 2, 'croque madame': 2, 'lemon tart': 2, 'irish': 2, 'dining bars': 2, 'great beer': 2, 'great greek food': 2, 'by the glass': 2, 'wild rice': 2, 'quirky decor': 2, 'samosas': 2, 'visiting athens': 2, 'gyro': 2, 'fried chicken': 2, 'peruvian': 2, 'smoked chicken': 2, 'butter chicken': 2, 'paneer': 2, 'giant beans': 2, 'italian dishes': 2, 'romantic dinner': 2, 'baked potato': 2, 'meze': 2, 'cretan wine': 2, 'spicy mango': 2, 'mezze board': 2, 'stew': 2, 'okra': 2, 'stuffed zucchini flowers': 2, 'complimentary dessert': 2, 'great place to eat': 2, 'roast potatoes': 2, 'chinese food': 2, 'definitely worth a visit': 2, 'lunch or dinner': 2, 'own garden': 2, 'lovely atmosphere': 2, 'nice coffee': 2, 'nachos': 2, 'all inclusive hotel': 2, 'white fish': 2, 'tuna carpaccio': 2, 'greek coffee': 2, 't bone': 2, 'plenty of sunbeds': 2, 'wait for a table': 2, 'balcony': 2, 'egg fried rice': 2, 'her daughter': 2, 'air hockey': 2, 'st george': 2, 'love this place': 2, 'stuffed burger': 2, 'brownie': 2, 'olive oil': 2, 'amazing dinner': 2, 'cozy place': 2, 'pancetta': 2, 'popular with locals': 2, 'smoothies': 2, 'comfortable sunbeds': 2, 'spanakopita': 2, 'calzone': 2, 'omelette': 2, 'port': 2, 'huge portions': 2, 'excellent service': 2, 'plums': 2, 'garlic lamb': 2, 'rhodes': 2, 'views': 2, 'spaghetti bolognese': 2, 'fish tavern': 2, 'special mention': 2, 'cheese': 2, 'stuffed tomatoes': 2, 'traditional taverna': 2, 'grilled shrimp': 2, 'local food': 2, 'peas': 2, 'walnut cake': 2, 'gorge': 2, 'lovely staff': 2, 'crab': 2, 'pyrgos village': 2, 'beef fillet': 2, 'bite to eat': 2, 'summer salad': 2, 'romana': 2, 'central-italian': 2, 'pappardelle': 2, 'amazing service': 2, 'across the road': 2, 'warm bread': 2, 'mashed potatoes': 2, 'southwestern': 2, 'arancini': 2, 'most nights': 2, 'george': 2, 'pork souvlaki': 2, 'tuna steak': 2, 'seafood spaghetti': 2, 'watch football': 2, 'greek platter': 2, 'pool area': 2, 'friendly bar': 2, 'goat chops': 2, 'his wife': 2, 'sunset': 2, 'toasted bread': 2, 'lobster spaghetti': 2, 'savory crepes': 2, 'definitely recommend this restaurant': 2, 'baguette': 2, 'tomato soup': 2, 'no pressure': 2, 'vegan menu': 2, 'dutch': 2, 'mykonos': 2, 'banoffee pie': 2, 'garlic mash': 2, 'kos': 2, 'pineapple': 2, 'monkfish': 2, 'village sausage': 2, 'complimentary ice cream': 2, 'lemon cheesecake': 2, 'courgette fritters': 2, 'oven': 2, 'at lunchtime': 2, 'scorpion fish': 2, 'authentic italian food': 2, 'evening meal': 2, 'bbq ribs': 1, 'roasted vegetables': 1, 'music': 1, 'waiters': 1, 'veal cheeks': 1, 'wine cellar': 1, 'set menu': 1, 'mango salad': 1, 'vietnamese rolls': 1, 'nice cocktails': 1, 'nice staff': 1, 'grilled tuna': 1, 'great seafood': 1, 'black rice': 1, 'stuffed kalamari': 1, 'nights in a row': 1, 'ox': 1, 'spicy shrimp': 1, 'ambient music': 1, 'oscar suites': 1, 'excellent italian restaurant': 1, 'tortillas': 1, 'herbs': 1, 'pork dish': 1, 'smoked cheese': 1, 'average restaurant': 1, 'watermelon salad': 1, 'staff were attentive': 1, 'rod stewart': 1, 'a late night snack': 1, 'most evenings': 1, 'see you next year': 1, 'a couple of times': 1, 'slow service': 1, 'nice garden': 1, 'family restaurant': 1, 'parrots': 1, 'mares': 1, 'ambience': 1, 'locals eat': 1, 'salt flats': 1, 'ordered medium': 1, 'alykes beach': 1, 'moni island': 1, 'beef stew': 1, 'home cooked food': 1, 'rooftop terrace': 1, 'appetizers': 1, 'rooftops': 1, 'wedding reception': 1, 'shrimp burger': 1, 'during happy hour': 1, 'nice spot': 1, 'large tv': 1, 'lovely beach restaurant': 1, 'large portions': 1, 'saturday night': 1, 'orange': 1, 'authentic greek cuisine': 1, 'sifnos': 1, 'attentive staff': 1, 'complimentary watermelon': 1, 'my boyfriend': 1, 'cocktail bar': 1, 'dip selection': 1, 'free ice cream': 1, 'beer': 1, 'pork steak': 1, 'wonderful sunset': 1, 'takeaway': 1, 'limnonari beach': 1, 'free of charge': 1, 'slice': 1, 'living room': 1, 'eros beach': 1, 'visit crete': 1, 'view of the bay': 1, 'visit hydra': 1, 'hydra': 1, 'street': 1, 'plateria': 1, 'garden': 1, 'mylopotas beach': 1, 'snacks and drinks': 1, 'view is amazing': 1, 'da vincis': 1, 'asian chicken wings': 1, 'ono': 1, 'great environment': 1, 'syros island': 1, 'beach bar restaurant': 1, 'watching the sunset': 1, 'margarita': 1, 'short walk': 1, 'mains': 1, 'orzo pasta': 1, 'crystal waters': 1, 'halki': 1, 'renieris hotel': 1, 'each meal': 1, 'kato gouves': 1, 'authentic cretan': 1, 'delicious meal': 1, 'greek banquet': 1, 'blue cheese sauce': 1, 'grilled salmon': 1, 'food bar': 1, 'polite staff': 1, 'seafood linguine': 1, 'frank': 1, 'an adventure': 1, 'traditional cretan': 1, 'every meal': 1, 'slow cooked lamb': 1, 'chose this place': 1, 'great price': 1, 'kalymnos': 1, 'quality offered': 1, 'pelagos': 1, 'greek families': 1, 'cooked perfectly': 1, 'high standard': 1, 'apple fritters': 1, 'home away from home': 1, 'rob': 1, 'mareblue resort': 1, 'friday and saturday': 1, 'lovely greek': 1, 'dont miss': 1, 'couscous': 1, 'lamb kebab': 1, 'traditional caves': 1, 'megalochori village': 1, 'potato skins': 1, 'lemon potatoes': 1, 'including drinks': 1, 'feta saganaki': 1, 'friendly welcome': 1, 'honey cake': 1, 'tiradito': 1, 'seafood dishes': 1, 'very small place': 1, 'frozen yogurt': 1, 'a family run business': 1, 'seaside': 1, 'ionian sea': 1, 'cats': 1, 'my gf': 1, 'planes landing': 1, 'great place to watch the sun': 1, 'the young lady serving': 1, 'amazing italian food': 1, 'pork and chicken': 1, 'grilled prawns': 1, 'wonderful family': 1, 'beautiful courtyard setting': 1, 'gourmet restaurant': 1, 'red velvet pancakes': 1, 'sit outside': 1, 'black pig': 1, 'baby pork': 1, 'live greek music': 1, 'sani marina': 1, 'family holiday': 1, 'macedonia': 1, 'our week stay': 1, 'offered raki': 1, 'great traditional restaurant': 1, 'oldest restaurant': 1, 'kalafati beach': 1, 'tasty traditional greek food': 1, 'summer holidays': 1, 'by the bottle': 1, 'standard greek taverna': 1, 'excellent italian food': 1, 'both occasions': 1, 'washing machine': 1, 'down to earth': 1, 'met george': 1, 'arrived minutes': 1, 'strong winds': 1, 'christos': 1, 'plaka beach': 1, 'naxos island': 1, 'halloumi cheese': 1, 'nikitas': 1, 'quality food': 1, 'well worth the trip': 1, 'parga bay': 1, 'your feet': 1, 'service attentive': 1, 'taverna serves': 1, 'off the beaten track': 1, 'an ideal place': 1, 'a late lunch': 1, 'small menu': 1, 'super tasty': 1, 'foie gras': 1, 'tablecloths': 1, 'tourists': 1, 'waiter': 1, 'local guide': 1, 'crowne plaza': 1, 'trees': 1, 'tagine': 1, 'talagani cheese': 1, 'pita wrap': 1, 'greek omelet': 1, 'cappuccino': 1, 'tour group': 1, 'friendly atmosphere': 1, 'biryani': 1, 'indian food in athens': 1, 'lentil salad': 1, 'nice bar restaurant': 1, 'designed place': 1, 'sponge cake': 1, 'terrine': 1, 'gyro wrap': 1, 'dine with a local chef': 1, 'stuffed zucchini': 1, 'avgolemono': 1, 'an unforgettable experience': 1, 'real taste': 1, 'drunken noodles': 1, 'pat thai': 1, 'tom yum': 1, 'sashimi': 1, 'quality sushi': 1, 'oysters': 1, 'tataki': 1, 'bread basket': 1, 'lovely view of the acropolis': 1, 'amazing coffee': 1, 'bakery': 1, 'chilli con carne': 1, 'mexican restaurant': 1, 'quinoa salad': 1, 'papaya salad': 1, 'edamame': 1, 'creative dishes': 1, 'smoked meat': 1, 'south american': 1, 'black mamba': 1, 'gnocchi': 1, 'beef burger': 1, 'connie': 1, 'quiche': 1, 'acropolis museum': 1, 'lemon sorbet': 1, 'wagyu': 1, 'mini burgers': 1, 'michelin guide': 1, 'gastronomic experience': 1, 'naan': 1, 'lamb curry': 1, 'bombay aloo': 1, 'beef cheeks': 1, 'guinness pie': 1, 'wings': 1, 'flea market': 1, 'pint': 1, 'rooftop bar': 1, 'monastiraki square': 1, 'delicious dinner': 1, 'average food': 1, 'fish ceviche': 1, 'kolonaki area': 1, 'pollock': 1, 'modern greek food': 1, 'chicken burger': 1, 'thali': 1, 'chicken korma': 1, 'great indian food': 1, 'veg': 1, 'rooftop restaurant': 1, 'athens hilton': 1, 'plaka area': 1, 'korean': 1, 'bibimbap': 1, 'pear tart': 1, 'skirt steak': 1, 'great view of the acropolis': 1, 'rooftop': 1, 'black beans': 1, 'fun dinner': 1, 'best indian': 1, 'punjabi': 1, 'warm atmosphere': 1, 'amazing decoration': 1, 'finger food': 1, 'nice drinks': 1, 'avocado toast': 1, 'meatball appetizer': 1, 'koukaki': 1, 'cheese board': 1, 'homemade chutney': 1, 'octopus salad': 1, 'fresh hotel': 1, 'wine list is': 1, 'downtown athens': 1, 'soba noodles': 1, 'mackerel': 1, 'sirloin': 1, 'tomato bread': 1, 'causa': 1, 'manchego cheese': 1, 'gulab jamun': 1, 'mango': 1, 'owned restaurant': 1, 'overlooking the valley': 1, 'owner': 1, 'view over the lake': 1, 'beautiful setting': 1, 'lake': 1, 'overlooking the lake': 1, 'mixed starter': 1, 'miramare': 1, 'meze dishes': 1, 'marina': 1, 'bougainvillea': 1, 'pasta place': 1, 'cretan pasta': 1, 'cheeseburger': 1, 'tasty vegan food': 1, 'beetroot carpaccio': 1, 'byob': 1, 'sauce': 1, 'crete': 1, 'daily specials': 1, 'spinach pie': 1, 'cretan salad': 1, 'garlic shrimp': 1, 'local greens': 1, 'bruschettas': 1, 'apple pie': 1, 'moroccan lamb': 1, 'sausage platter': 1, 'greek burger': 1, 'craft ales': 1, 'aubergine dip': 1, 'perfect location': 1, 'elevated position': 1, 'elounda bay': 1, 'fried snails': 1, 'cretan coast': 1, 'favourite bar': 1, 'young waitress': 1, 'pre dinner cocktails': 1, 'excellent fish': 1, 'fish of the day': 1, 'fried dough': 1, 'beef patties': 1, 'quality dishes': 1, 'fantastic lunch': 1, 'balti': 1, 'poppadoms': 1, 'masala': 1, 'stalis': 1, 'eat greek': 1, 'beautiful garden': 1, 'our waiter': 1, 'huge parking': 1, 'boutique hotel': 1, 'an incredible view': 1, 'meze plates': 1, 'small plates': 1, 'seafood plate': 1, 'fountain': 1, 'beach service': 1, 'seafront': 1, 'personnel': 1, 'baked eggplant': 1, 'zucchini flowers': 1, 'excellent gyros': 1, 'positive energy': 1, 'stuffed onions': 1, 'cat lover': 1, 'a unique dining experience': 1, 'nice service': 1, 'small port': 1, 'king crab': 1, 'short ribs': 1, 'kouros hotel': 1, 'churros': 1, 'the grill': 1, 'great place for coffee': 1, 'pelagos hotel': 1, 'rustic greek': 1, 'dinner on the beach': 1, 'great taverna': 1, 'traditional dishes': 1, 'located right': 1, 'black risotto': 1, 'stuffed zucchini blossoms': 1, 'skala': 1, 'veal meatballs': 1, 'hidden gem of a restaurant': 1, 'black angus steak': 1, 'grilled feta': 1, 'food was fantastic': 1, 'lindos': 1, 'visit symi': 1, 'brothers': 1, 'concrete': 1, 'valtos beach': 1, 'prices are reasonable': 1, 'castle': 1, 'cantonese': 1, 'excellent traditional greek food': 1, 'kolokithokeftedes': 1, 'aubergine salad': 1, 'beef steak': 1, 'courgette flowers': 1, 'sarakiniko beach': 1, 'local producers': 1, 'chicken pie': 1, 'frog legs': 1, 'long island': 1, 'business dinner': 1, 'smoked trout': 1, 'small harbour': 1, 'picturesque setting': 1, 'super fast service': 1, 'high level': 1, 'kathisma beach': 1, 'alla livornese': 1, 'taverna offers': 1, 'spent several hours': 1, 'lounge cafe': 1, 'tiny island': 1, 'blue sea': 1, 'zakynthos town': 1, 'thank you so much': 1, 'table': 1, 'smoked mackerel': 1, 'wrap': 1, 'tower': 1, 'tasty': 1, 'food and wine': 1, 'upper city': 1, 'old city': 1, 'typical greek': 1, 'crepes suzette': 1, 'rice soup': 1, 'tripe': 1, 'vinegar': 1, 'city': 1, 'bao buns': 1, 'warmly recommend this place': 1, 'seasonal menu': 1, 'napoli style': 1, 'first floor': 1, 'ano poli': 1, 'fried olives': 1, 'smoked pork chop': 1, 'vegetable soup': 1, 'sea bass carpaccio': 1, 'handmade pasta': 1, 'porcini': 1, 'real italian restaurant': 1, 'al dente': 1, 'organic ingredients': 1, 'magical setting': 1, 'greek specials': 1, 'stella': 1, 'swim': 1, 'fish swimming': 1, 'every summer': 1, 'green pasta': 1, 'fresh lemonade': 1, 'beaches': 1, 'loungers': 1, 'old village': 1, 'every evening': 1, 'stafylos beach': 1, 'skopelos town': 1, 'pomegranate': 1, 'courtyard': 1, 'beautiful family': 1, 'couple of hours': 1, 'the kitchen': 1, 'bougatsa': 1, 'gastronomic adventure': 1, 'menu is extensive': 1, 'unique taste': 1, 'parpadelle': 1, 'multiple times': 1, 'wonderful fish': 1, 'brownie and ice cream': 1, 'garden salad': 1, 'traditional place': 1, 'greek islands': 1, 'shrimp salad': 1, 'melenos lindos': 1, 'lindos bay': 1, 'acropolis': 1, 'thai green curry': 1, 'just the right amount': 1, 'granita': 1, 'chicken pizza': 1, 'rhodes town': 1, 'beautiful island': 1, 'kala': 1, 'great cretan food': 1, 'meat lovers': 1, 'road': 1, 'tinos': 1, 'town': 1, 'small restaurant': 1, 'superb food': 1, 'craft': 1, 'beers': 1, 'brioche': 1, 'small balcony': 1, 'nice dinner': 1, 'wild mushrooms': 1, 'family driven restaurant': 1, 'chops': 1, 'birds singing': 1, 'beef soup': 1, 'visit meteora': 1, 'hospitality': 1, 'homemade': 1, 'private parking': 1, 'definitely recommend this place': 1, 'bbq': 1, 'taco': 1, 'great margaritas': 1, 'preveli beach': 1, 'old bridge': 1, 'small river': 1, 'recommend stopping here': 1, 'sweets': 1, 'fosse': 1, 'chicken salad': 1, 'lunch time': 1, 'vathy': 1, 'smile': 1, 'kalamata': 1, 'bad weather': 1, 'budget permits': 1, 'fishing boats': 1, 'penne': 1, 'fantastic food and service': 1, 'lobster night': 1, 'pepper sauce': 1, 'authentic cretan food': 1, 'staka': 1, 'salmon tartare': 1, 'local fishing boats': 1, 'top class': 1, 'wild boar': 1, 'roast pork': 1, 'stone oven': 1, 'day trip': 1, 'little bit': 1, 'parrot fish': 1, 'mizithra': 1, 'lovely music': 1, 'mediterranean style': 1, 'beautiful environment': 1, 'fishing': 1, 'english songs': 1, 'nearby hotel': 1, 'marbella hotel': 1, 'don t expect': 1, 'sea food restaurant': 1, 'olive oil and lemon': 1, 'an impressive wine list': 1, 'manchester city': 1, 'champions league game': 1, 'at reasonable prices': 1, 'vegetarian food': 1, 'white eggplant': 1, 'free dessert': 1, 'recommend eating here': 1, 'lazio': 1, 'tartufo': 1, 'sunset drinks': 1, 'greek street': 1, 'chips': 1, 'zhejiang': 1, 'last summer': 1, 'extended family': 1, 'local ingredients': 1, 'his customers': 1, 'lovely garden': 1, 'modern twist': 1, 'pomegranate salad': 1, 'surrounding area': 1, 'tree': 1, 'free watermelon': 1, 'bakeries': 1, 'grill house': 1, 'star beach': 1, 'lovely pool': 1, 'an umbrella': 1, 'great facilities': 1, 'mixed grill platter': 1, 'fantastic food and drinks': 1, 'town square': 1, 'paella': 1, 'home baked bread': 1, 'creta maris': 1, 'great fresh fish': 1, 'don t miss': 1, 'an oasis': 1, 'charming courtyard': 1, 'ample selection': 1, 'taste combinations': 1, 'full house': 1, 'made us feel': 1, 'true greek': 1, 'breathtaking views': 1, 'kani salad': 1, 'golden dragon': 1, 'chimichanga': 1, 'street tacos': 1, 'cherry tomatoes': 1, 'italian restaurant': 1, 'giouvetsi': 1, 'eating fish': 1, 'great brunch': 1, 'menus': 1, 'euro': 1, 'location': 1, 'crispy rice': 1, 'japanese restaurant': 1, 'nobu restaurants': 1, 'italian restaurant in athens': 1, 'similar places': 1, 'saltimbocca alla romana': 1, 'environment': 1, 'lobster gnocchi': 1, 'agios prokopios': 1, 'crystal clear water': 1, 'small alley': 1, 'quaint restaurant': 1, 'sun dried tomatoes': 1, 'perfect food': 1, 'sommelier': 1, 'syros': 1, 'grilled watermelon': 1, 'limited menu': 1, 'a real gem': 1, 'friday night': 1, 'wonderful lunch': 1, 'cypriot salad': 1, 'quiet garden': 1, 'chicken kiev': 1, 'beautiful atmosphere': 1, 'walnuts': 1, 'yannis': 1, 'mussels saganaki': 1, 'lemon sauce': 1, 'fira': 1, 'service was great': 1, 'the wood burning oven': 1, 'black beach': 1, 'fish plate': 1, 'great for people watching': 1, 'breakfast selection': 1, 'snacks': 1, 'daniella': 1, 'chicken fajitas': 1, 'chocolate souffle': 1, 'gyro plate': 1, 'crab cakes': 1, 'pork shank': 1, 'scandinavian': 1, 'couscous salad': 1, 'romantic meal': 1, 'lounge music': 1, 'great grill': 1, 'italian cuisine': 1, 'week vacation': 1, 'banana fritters': 1, 'extensive menu': 1, 'ixia': 1, 'friendly waiter': 1, 'screens showing': 1, 'authentic greek': 1, 'rhodes old town': 1, 'leonidas': 1, 'september': 1, 'chicken ballotine': 1, 'tv screens': 1, 'traditional greek restaurant': 1, 'local red wine': 1, 'football match': 1, 'sports': 1, 'belair beach hotel': 1, 'sense of humour': 1, 'polite personnel': 1, 'seven springs': 1, 'peacocks walking': 1, 'natural surroundings': 1, 'dappled shade': 1, 'welcoming atmosphere': 1, 'king scallops': 1, 'chef cooks': 1, 'cake and ice cream': 1, 'mythos beer': 1, 'seaside hotel': 1, 'between courses': 1, 'lamb moussaka': 1, 'mousse': 1, 'heliotopos hotel': 1, 'natural cave': 1, 'cocktail menu': 1, 'romantic evening': 1, 'infinity pool': 1, 'delicious desserts': 1, 'visiting santorini': 1, 'emerald villas': 1, 'set high': 1, 'private beach': 1, 'amazing setting': 1, 'grill restaurant': 1, 'marianna': 1, 'vegetables and fruits': 1, 'grilled cuttlefish': 1, 'the hustle and bustle': 1, 'previous years': 1, 'this lovely restaurant': 1, 'osso bucco': 1, 'making our dining experience': 1, 'tagliata': 1, 'great setting': 1, 'chocolate soup': 1, 'sea bass ceviche': 1, 'celeriac puree': 1, 'chicken wings': 1, 'thai curry': 1, 'traditional cafe': 1, 'great portions': 1, 'staff were amazing': 1, 'thin crust': 1, 'one night': 1, 'his son': 1, 'his team': 1, 'amazones villas': 1, 'lovely place to relax': 1, 'fantastic views': 1, 'waiter service on the beach': 1, 'crazy golf': 1, \"can't comment on the food\": 1, 'lovely cocktails': 1, 'masala tea': 1, 'indian food': 1, 'mediterranean chicken': 1, 'polite service': 1, 'visited casa': 1, 'steep road': 1, 'lovely experience': 1, 'perfect dinner': 1, 'greek breakfast': 1, 'sun beds on the beach': 1, 'di mare': 1, 'matala beach': 1, 'stingrays': 1, 'fruit platter': 1, 'super paradise beach': 1, 'drag show': 1, 'platter': 1, 'wedges': 1, 'green curry': 1, 'irish pub': 1, 'lanterns': 1, 'a great place to spend': 1, 'kings': 1, 'grill fish': 1, 'amazing meal': 1, 'dough balls': 1, 'burguer': 1, 'zante': 1, 'chicken dish': 1, 'antonis pool bar': 1, 'presented food': 1, 'traditional greek taverna': 1, 'the main strip': 1, 'friendly restaurant': 1, 'steak pie': 1, 'pukka pie': 1, 'coleslaw': 1, 'mars bar cheesecake': 1, 'underwater lights': 1, 'lamb pie': 1, 'mixed seafood': 1, 'lots of restaurants': 1, 'spring lamb': 1, 'phos': 1, 'bolognese': 1, 'surf and turf': 1, 'friendly place': 1, 'stam': 1, 'per day': 1, 'changing rooms': 1, 'terrace overlooking the sea': 1, 'liver and onions': 1, 'live entertainment': 1, 'great coffee': 1, 'tomato sauce': 1, 'village square': 1, 'main dish': 1, 'little venice': 1, 'crispy corn': 1, 'tuscan': 1, 'onion pie': 1, 'portion size': 1, 'banoffee': 1, 'chicken and pork': 1, 'dal makhani': 1, 'paradise beach': 1, 'burrata': 1, 'town hall square': 1, 'mezedes': 1, 'catfish': 1, 'goat cheese salad': 1, 'tournedos': 1, 'cod bites': 1, 'beef tagliata': 1, 'chocolate mousse': 1, 'halkidiki': 1, 'good idea': 1, 'romantic atmosphere': 1, 'pine trees': 1, 'fantastic music': 1, 'drinks menu': 1, 'tsatziki': 1, 'jacket potato': 1, 'second to none': 1, 'greek yogurt': 1, 'friendly staff and lovely food': 1, 'salt lake': 1, 'peppered fillet': 1, 'great banter': 1, 'filet mignon': 1, 'bread and olives': 1, 'tabbouleh': 1, 'sizzling beef': 1, 'dim sum': 1, 'tempura prawns': 1, 'peking duck': 1, 'mains desserts': 1, 'flambe': 1, 'h2o': 1, 'captains platter': 1, 'acai bowl': 1, 'french toast': 1, 'food alright': 1, 'lovely view of the harbour': 1, 'large mythos': 1, 'tuna salad': 1, 'excellent kitchen': 1, 'archaeological site': 1, 'chessecake': 1, 'anniversary meal': 1, 'free shots': 1, 'american style food': 1, 'draft mythos': 1, 'fabulous bar': 1, 'lava cake': 1, 'armenian': 1, 'kofte': 1, 'delivery service': 1, 'king prawn spaghetti': 1, 'kalogria beach': 1, 'matina hotel': 1, 'two weeks': 1, 'cold soup': 1, 'chocolate sphere': 1, 'play area': 1, 'whilst on holiday': 1, 'lovely traditional taverna': 1, 'greek music playing in the background': 1, 'great hospitality': 1, 'fantastic location': 1, 'ornos beach': 1, 'local cats': 1, 'few drinks': 1, 'karaoke': 1, 'steamed mussels': 1, 'square': 1, 'home cooked': 1, 'lovely square': 1, 'on tuesdays': 1, 'lunch and evening meals': 1, 'tender lamb': 1, 'nice bar': 1, 'lounge area': 1, 'three times': 1, 'good quality food': 1, 'fresh sea bass': 1, 'wonderful wine': 1, 'love food': 1, 'harbour edge': 1, 'spent a week': 1, 'toasties': 1, 'gyro platter': 1, 'music quiz': 1, 'great entertainment': 1, 'evening entertainment': 1, 'stuffed pork': 1, 'greek sausage': 1, 'lemon cake': 1, \"canal d'amour\": 1, 'the cliff': 1, 'spicy pork': 1, 'black pudding': 1, 'table tennis': 1, 'ping pong': 1, 'value for money': 1, 'dolma': 1, 'sami harbour': 1, 'fantastic cocktails': 1, 'great fun': 1, 'apple cake': 1, 'from the oven': 1, 'asterias village': 1, 'course menu': 1, 'brought to the table': 1, 'euros': 1, 'pottery village': 1, 'pizza restaurant': 1, 'big variation': 1, 'red sauce': 1, 'ouzo': 1, 'kalami beach': 1, 'frosso apartments': 1, 'homemade food': 1, 'table overlooking the sea': 1, 'panos': 1, 'crispy': 1, 'anne marie': 1, 'ermones beach': 1, 'the sun set': 1, 'lovely view': 1, 'greek dancers': 1, 'wedding venue': 1, 'dream wedding': 1, 'paprika chicken': 1, 'recipe book': 1, 'shin of beef': 1, 'beef stamna': 1, 'lemon and orange trees': 1, 'nice meal': 1, 'last year': 1, 'chocolate brownie': 1, 'greek meze': 1, 'free glass of wine': 1, 'homemade wine': 1, 'lamb shoulder': 1, 'cauliflower steak': 1, 'sofrito': 1, 'sea perch': 1, 'presentation': 1, 'corfu beer': 1, 'ate here a couple of times': 1, 'beef tips': 1, 'shrimp linguine': 1, 'duck spring rolls': 1, 'vegetarian moussaka': 1, 'filo pastry': 1, 'relaxed evening': 1, 'skiathos island': 1, 'mozzarella': 1, 'lady owner': 1, 'anatolia': 1, 'hake': 1, 'spicy mussels': 1, 'costa': 1, 'old harbour': 1, 'parchment paper': 1, 'skordalia': 1, 'sisters': 1, 'cuttlefish risotto': 1, 'corfu town': 1, 'couldn t': 1, 'dean': 1, 'garlic': 1, 'boat trip': 1, 'sun sets': 1, 'prawn linguine': 1, 'overlooking the harbour': 1, 'cocktails': 1, 'harbour side': 1, 'watching the world': 1, 'varied menu': 1, 'watch the boats': 1, 'people watching': 1, 'nice table': 1, 'olive bread': 1, 'whitebait': 1, 'greek experience': 1, 'his lovely wife': 1, 'beautiful oasis': 1, 'lovely greek music': 1, 'grilled dorado': 1, 'aubergine': 1, 'village': 1, 'agios': 1, 'pasquale': 1, 'kefalonian meat pie': 1, 'hot chocolate': 1, 'comfortable terrace': 1, 'amazing experience': 1, 'mykonos town': 1, 'dish': 1, 'the bus': 1, 'family business': 1, 'wonderful food': 1, 'water': 1, 'shadow': 1, 'agios georgios': 1, 'tiny village': 1, 'wonderful hospitality': 1, 'honey': 1, 'orange salad': 1, 'blue lagoon village': 1, 'filo parcels': 1, 'an evening meal': 1, 'cheese pie': 1, 'cuttlefish ink': 1, 'scrambled eggs': 1, 'background music': 1, 'visit poros': 1, 'friendly staff and delicious food': 1, 'special occasion': 1})\n"
          ]
        }
      ],
      "source": [
        "import pandas as pd\n",
        "from collections import Counter\n",
        "\n",
        "\n",
        "# Function to split awards and count them\n",
        "def count_awards(awards_column):\n",
        "    # Split each entry in the column by commas and flatten the result\n",
        "    all_awards = [award.strip() for entry in awards_column if type(entry) == str for award in entry.split(',')]\n",
        "\n",
        "    # Use Counter to count occurrences of each award\n",
        "    award_count = Counter(all_awards)\n",
        "\n",
        "    return award_count\n",
        "\n",
        "# Apply the function\n",
        "top_counts = count_awards(df2['to_new_data'])\n",
        "\n",
        "print(top_counts)"
      ]
    },
    {
      "cell_type": "code",
      "execution_count": 18,
      "metadata": {
        "id": "SunzbnuKssNd",
        "colab": {
          "base_uri": "https://localhost:8080/",
          "height": 423
        },
        "outputId": "f387f9b4-2c85-4229-a26c-205bbb1ed4eb"
      },
      "outputs": [
        {
          "output_type": "execute_result",
          "data": {
            "text/plain": [
              "       Apartment Number                           Street Name  \\\n",
              "952974               13                                sekeri   \n",
              "952975               14                              atkis st   \n",
              "952976               59                                sekeri   \n",
              "952977                8                                 aktis   \n",
              "952978               28                                sekeri   \n",
              "...                 ...                                   ...   \n",
              "986731                                                 fodele   \n",
              "986732                                               kalamaki   \n",
              "986733                5        th km chania-kissamos old road   \n",
              "986734                    peo kissamou chanion kalamaki beach   \n",
              "986735              142  palaia ethniki odos kissamou chanion   \n",
              "\n",
              "                              City_2 Zip Code  \n",
              "952974                         tolon    21056  \n",
              "952975                         tolon    21056  \n",
              "952976                         tolon    21056  \n",
              "952977                         tolon    21056  \n",
              "952978                         tolon    21056  \n",
              "...                              ...      ...  \n",
              "986731                         crete    71500  \n",
              "986732            chania town, crete    73100  \n",
              "986733  kalamaki, chania town, crete    73500  \n",
              "986734  kalamaki, chania town, crete    73100  \n",
              "986735  kalamaki, chania town, crete    73100  \n",
              "\n",
              "[25503 rows x 4 columns]"
            ],
            "text/html": [
              "\n",
              "  <div id=\"df-309bf383-ef4c-4f11-b3ad-bb9717c4fd04\" class=\"colab-df-container\">\n",
              "    <div>\n",
              "<style scoped>\n",
              "    .dataframe tbody tr th:only-of-type {\n",
              "        vertical-align: middle;\n",
              "    }\n",
              "\n",
              "    .dataframe tbody tr th {\n",
              "        vertical-align: top;\n",
              "    }\n",
              "\n",
              "    .dataframe thead th {\n",
              "        text-align: right;\n",
              "    }\n",
              "</style>\n",
              "<table border=\"1\" class=\"dataframe\">\n",
              "  <thead>\n",
              "    <tr style=\"text-align: right;\">\n",
              "      <th></th>\n",
              "      <th>Apartment Number</th>\n",
              "      <th>Street Name</th>\n",
              "      <th>City_2</th>\n",
              "      <th>Zip Code</th>\n",
              "    </tr>\n",
              "  </thead>\n",
              "  <tbody>\n",
              "    <tr>\n",
              "      <th>952974</th>\n",
              "      <td>13</td>\n",
              "      <td>sekeri</td>\n",
              "      <td>tolon</td>\n",
              "      <td>21056</td>\n",
              "    </tr>\n",
              "    <tr>\n",
              "      <th>952975</th>\n",
              "      <td>14</td>\n",
              "      <td>atkis st</td>\n",
              "      <td>tolon</td>\n",
              "      <td>21056</td>\n",
              "    </tr>\n",
              "    <tr>\n",
              "      <th>952976</th>\n",
              "      <td>59</td>\n",
              "      <td>sekeri</td>\n",
              "      <td>tolon</td>\n",
              "      <td>21056</td>\n",
              "    </tr>\n",
              "    <tr>\n",
              "      <th>952977</th>\n",
              "      <td>8</td>\n",
              "      <td>aktis</td>\n",
              "      <td>tolon</td>\n",
              "      <td>21056</td>\n",
              "    </tr>\n",
              "    <tr>\n",
              "      <th>952978</th>\n",
              "      <td>28</td>\n",
              "      <td>sekeri</td>\n",
              "      <td>tolon</td>\n",
              "      <td>21056</td>\n",
              "    </tr>\n",
              "    <tr>\n",
              "      <th>...</th>\n",
              "      <td>...</td>\n",
              "      <td>...</td>\n",
              "      <td>...</td>\n",
              "      <td>...</td>\n",
              "    </tr>\n",
              "    <tr>\n",
              "      <th>986731</th>\n",
              "      <td></td>\n",
              "      <td>fodele</td>\n",
              "      <td>crete</td>\n",
              "      <td>71500</td>\n",
              "    </tr>\n",
              "    <tr>\n",
              "      <th>986732</th>\n",
              "      <td></td>\n",
              "      <td>kalamaki</td>\n",
              "      <td>chania town, crete</td>\n",
              "      <td>73100</td>\n",
              "    </tr>\n",
              "    <tr>\n",
              "      <th>986733</th>\n",
              "      <td>5</td>\n",
              "      <td>th km chania-kissamos old road</td>\n",
              "      <td>kalamaki, chania town, crete</td>\n",
              "      <td>73500</td>\n",
              "    </tr>\n",
              "    <tr>\n",
              "      <th>986734</th>\n",
              "      <td></td>\n",
              "      <td>peo kissamou chanion kalamaki beach</td>\n",
              "      <td>kalamaki, chania town, crete</td>\n",
              "      <td>73100</td>\n",
              "    </tr>\n",
              "    <tr>\n",
              "      <th>986735</th>\n",
              "      <td>142</td>\n",
              "      <td>palaia ethniki odos kissamou chanion</td>\n",
              "      <td>kalamaki, chania town, crete</td>\n",
              "      <td>73100</td>\n",
              "    </tr>\n",
              "  </tbody>\n",
              "</table>\n",
              "<p>25503 rows × 4 columns</p>\n",
              "</div>\n",
              "    <div class=\"colab-df-buttons\">\n",
              "\n",
              "  <div class=\"colab-df-container\">\n",
              "    <button class=\"colab-df-convert\" onclick=\"convertToInteractive('df-309bf383-ef4c-4f11-b3ad-bb9717c4fd04')\"\n",
              "            title=\"Convert this dataframe to an interactive table.\"\n",
              "            style=\"display:none;\">\n",
              "\n",
              "  <svg xmlns=\"http://www.w3.org/2000/svg\" height=\"24px\" viewBox=\"0 -960 960 960\">\n",
              "    <path d=\"M120-120v-720h720v720H120Zm60-500h600v-160H180v160Zm220 220h160v-160H400v160Zm0 220h160v-160H400v160ZM180-400h160v-160H180v160Zm440 0h160v-160H620v160ZM180-180h160v-160H180v160Zm440 0h160v-160H620v160Z\"/>\n",
              "  </svg>\n",
              "    </button>\n",
              "\n",
              "  <style>\n",
              "    .colab-df-container {\n",
              "      display:flex;\n",
              "      gap: 12px;\n",
              "    }\n",
              "\n",
              "    .colab-df-convert {\n",
              "      background-color: #E8F0FE;\n",
              "      border: none;\n",
              "      border-radius: 50%;\n",
              "      cursor: pointer;\n",
              "      display: none;\n",
              "      fill: #1967D2;\n",
              "      height: 32px;\n",
              "      padding: 0 0 0 0;\n",
              "      width: 32px;\n",
              "    }\n",
              "\n",
              "    .colab-df-convert:hover {\n",
              "      background-color: #E2EBFA;\n",
              "      box-shadow: 0px 1px 2px rgba(60, 64, 67, 0.3), 0px 1px 3px 1px rgba(60, 64, 67, 0.15);\n",
              "      fill: #174EA6;\n",
              "    }\n",
              "\n",
              "    .colab-df-buttons div {\n",
              "      margin-bottom: 4px;\n",
              "    }\n",
              "\n",
              "    [theme=dark] .colab-df-convert {\n",
              "      background-color: #3B4455;\n",
              "      fill: #D2E3FC;\n",
              "    }\n",
              "\n",
              "    [theme=dark] .colab-df-convert:hover {\n",
              "      background-color: #434B5C;\n",
              "      box-shadow: 0px 1px 3px 1px rgba(0, 0, 0, 0.15);\n",
              "      filter: drop-shadow(0px 1px 2px rgba(0, 0, 0, 0.3));\n",
              "      fill: #FFFFFF;\n",
              "    }\n",
              "  </style>\n",
              "\n",
              "    <script>\n",
              "      const buttonEl =\n",
              "        document.querySelector('#df-309bf383-ef4c-4f11-b3ad-bb9717c4fd04 button.colab-df-convert');\n",
              "      buttonEl.style.display =\n",
              "        google.colab.kernel.accessAllowed ? 'block' : 'none';\n",
              "\n",
              "      async function convertToInteractive(key) {\n",
              "        const element = document.querySelector('#df-309bf383-ef4c-4f11-b3ad-bb9717c4fd04');\n",
              "        const dataTable =\n",
              "          await google.colab.kernel.invokeFunction('convertToInteractive',\n",
              "                                                    [key], {});\n",
              "        if (!dataTable) return;\n",
              "\n",
              "        const docLinkHtml = 'Like what you see? Visit the ' +\n",
              "          '<a target=\"_blank\" href=https://colab.research.google.com/notebooks/data_table.ipynb>data table notebook</a>'\n",
              "          + ' to learn more about interactive tables.';\n",
              "        element.innerHTML = '';\n",
              "        dataTable['output_type'] = 'display_data';\n",
              "        await google.colab.output.renderOutput(dataTable, element);\n",
              "        const docLink = document.createElement('div');\n",
              "        docLink.innerHTML = docLinkHtml;\n",
              "        element.appendChild(docLink);\n",
              "      }\n",
              "    </script>\n",
              "  </div>\n",
              "\n",
              "\n",
              "<div id=\"df-e539a0c4-976b-48fb-bcda-2b776dac1447\">\n",
              "  <button class=\"colab-df-quickchart\" onclick=\"quickchart('df-e539a0c4-976b-48fb-bcda-2b776dac1447')\"\n",
              "            title=\"Suggest charts\"\n",
              "            style=\"display:none;\">\n",
              "\n",
              "<svg xmlns=\"http://www.w3.org/2000/svg\" height=\"24px\"viewBox=\"0 0 24 24\"\n",
              "     width=\"24px\">\n",
              "    <g>\n",
              "        <path d=\"M19 3H5c-1.1 0-2 .9-2 2v14c0 1.1.9 2 2 2h14c1.1 0 2-.9 2-2V5c0-1.1-.9-2-2-2zM9 17H7v-7h2v7zm4 0h-2V7h2v10zm4 0h-2v-4h2v4z\"/>\n",
              "    </g>\n",
              "</svg>\n",
              "  </button>\n",
              "\n",
              "<style>\n",
              "  .colab-df-quickchart {\n",
              "      --bg-color: #E8F0FE;\n",
              "      --fill-color: #1967D2;\n",
              "      --hover-bg-color: #E2EBFA;\n",
              "      --hover-fill-color: #174EA6;\n",
              "      --disabled-fill-color: #AAA;\n",
              "      --disabled-bg-color: #DDD;\n",
              "  }\n",
              "\n",
              "  [theme=dark] .colab-df-quickchart {\n",
              "      --bg-color: #3B4455;\n",
              "      --fill-color: #D2E3FC;\n",
              "      --hover-bg-color: #434B5C;\n",
              "      --hover-fill-color: #FFFFFF;\n",
              "      --disabled-bg-color: #3B4455;\n",
              "      --disabled-fill-color: #666;\n",
              "  }\n",
              "\n",
              "  .colab-df-quickchart {\n",
              "    background-color: var(--bg-color);\n",
              "    border: none;\n",
              "    border-radius: 50%;\n",
              "    cursor: pointer;\n",
              "    display: none;\n",
              "    fill: var(--fill-color);\n",
              "    height: 32px;\n",
              "    padding: 0;\n",
              "    width: 32px;\n",
              "  }\n",
              "\n",
              "  .colab-df-quickchart:hover {\n",
              "    background-color: var(--hover-bg-color);\n",
              "    box-shadow: 0 1px 2px rgba(60, 64, 67, 0.3), 0 1px 3px 1px rgba(60, 64, 67, 0.15);\n",
              "    fill: var(--button-hover-fill-color);\n",
              "  }\n",
              "\n",
              "  .colab-df-quickchart-complete:disabled,\n",
              "  .colab-df-quickchart-complete:disabled:hover {\n",
              "    background-color: var(--disabled-bg-color);\n",
              "    fill: var(--disabled-fill-color);\n",
              "    box-shadow: none;\n",
              "  }\n",
              "\n",
              "  .colab-df-spinner {\n",
              "    border: 2px solid var(--fill-color);\n",
              "    border-color: transparent;\n",
              "    border-bottom-color: var(--fill-color);\n",
              "    animation:\n",
              "      spin 1s steps(1) infinite;\n",
              "  }\n",
              "\n",
              "  @keyframes spin {\n",
              "    0% {\n",
              "      border-color: transparent;\n",
              "      border-bottom-color: var(--fill-color);\n",
              "      border-left-color: var(--fill-color);\n",
              "    }\n",
              "    20% {\n",
              "      border-color: transparent;\n",
              "      border-left-color: var(--fill-color);\n",
              "      border-top-color: var(--fill-color);\n",
              "    }\n",
              "    30% {\n",
              "      border-color: transparent;\n",
              "      border-left-color: var(--fill-color);\n",
              "      border-top-color: var(--fill-color);\n",
              "      border-right-color: var(--fill-color);\n",
              "    }\n",
              "    40% {\n",
              "      border-color: transparent;\n",
              "      border-right-color: var(--fill-color);\n",
              "      border-top-color: var(--fill-color);\n",
              "    }\n",
              "    60% {\n",
              "      border-color: transparent;\n",
              "      border-right-color: var(--fill-color);\n",
              "    }\n",
              "    80% {\n",
              "      border-color: transparent;\n",
              "      border-right-color: var(--fill-color);\n",
              "      border-bottom-color: var(--fill-color);\n",
              "    }\n",
              "    90% {\n",
              "      border-color: transparent;\n",
              "      border-bottom-color: var(--fill-color);\n",
              "    }\n",
              "  }\n",
              "</style>\n",
              "\n",
              "  <script>\n",
              "    async function quickchart(key) {\n",
              "      const quickchartButtonEl =\n",
              "        document.querySelector('#' + key + ' button');\n",
              "      quickchartButtonEl.disabled = true;  // To prevent multiple clicks.\n",
              "      quickchartButtonEl.classList.add('colab-df-spinner');\n",
              "      try {\n",
              "        const charts = await google.colab.kernel.invokeFunction(\n",
              "            'suggestCharts', [key], {});\n",
              "      } catch (error) {\n",
              "        console.error('Error during call to suggestCharts:', error);\n",
              "      }\n",
              "      quickchartButtonEl.classList.remove('colab-df-spinner');\n",
              "      quickchartButtonEl.classList.add('colab-df-quickchart-complete');\n",
              "    }\n",
              "    (() => {\n",
              "      let quickchartButtonEl =\n",
              "        document.querySelector('#df-e539a0c4-976b-48fb-bcda-2b776dac1447 button');\n",
              "      quickchartButtonEl.style.display =\n",
              "        google.colab.kernel.accessAllowed ? 'block' : 'none';\n",
              "    })();\n",
              "  </script>\n",
              "</div>\n",
              "\n",
              "    </div>\n",
              "  </div>\n"
            ],
            "application/vnd.google.colaboratory.intrinsic+json": {
              "type": "dataframe",
              "summary": "{\n  \"name\": \"df2[['Apartment Number', 'Street Name', 'City_2', 'Zip Code']]\",\n  \"rows\": 25503,\n  \"fields\": [\n    {\n      \"column\": \"Apartment Number\",\n      \"properties\": {\n        \"dtype\": \"category\",\n        \"num_unique_values\": 1330,\n        \"samples\": [\n          \"2514\",\n          \"63075\",\n          \"73008\"\n        ],\n        \"semantic_type\": \"\",\n        \"description\": \"\"\n      }\n    },\n    {\n      \"column\": \"Street Name\",\n      \"properties\": {\n        \"dtype\": \"string\",\n        \"num_unique_values\": 14950,\n        \"samples\": [\n          \"levidi\",\n          \"meg alexandrou str monolithos\",\n          \"palme oulof\"\n        ],\n        \"semantic_type\": \"\",\n        \"description\": \"\"\n      }\n    },\n    {\n      \"column\": \"City_2\",\n      \"properties\": {\n        \"dtype\": \"category\",\n        \"num_unique_values\": 2331,\n        \"samples\": [\n          \"vrachassi, vrachasi, crete\",\n          \"street, vagia\",\n          \"a luxury collection resort & spa, vouliagmeni\"\n        ],\n        \"semantic_type\": \"\",\n        \"description\": \"\"\n      }\n    },\n    {\n      \"column\": \"Zip Code\",\n      \"properties\": {\n        \"dtype\": \"category\",\n        \"num_unique_values\": 1256,\n        \"samples\": [\n          \"58002\",\n          \"134001\",\n          \"68100\"\n        ],\n        \"semantic_type\": \"\",\n        \"description\": \"\"\n      }\n    }\n  ]\n}"
            }
          },
          "metadata": {},
          "execution_count": 18
        }
      ],
      "source": [
        "# Function to clean and split addresses\n",
        "def clean_and_split_address(address):\n",
        "    address = address.lower().replace(\"greece\", \"\").strip()  # Remove \"Greece\"\n",
        "\n",
        "    # Ensure we have at least a street and city/zip\n",
        "    parts = address.split(\",\", 1) if \",\" in address else [address, \"\"]\n",
        "\n",
        "    street_info = parts[0].strip()  # Street + number\n",
        "    city_zip = parts[1].strip() if len(parts) > 1 else \"\"  # City + ZIP if available\n",
        "\n",
        "    # Extract ZIP code and city\n",
        "    zip_code = []\n",
        "    city = []\n",
        "    for char in city_zip:\n",
        "        if char.isdigit():\n",
        "            zip_code.append(char)\n",
        "        else:\n",
        "            city.append(char)\n",
        "\n",
        "    city = \"\".join(city).strip()\n",
        "    zip_code = \"\".join(zip_code)\n",
        "\n",
        "    # Extract Apartment Number and Street Name\n",
        "    apartment_number = []\n",
        "    street_name = []\n",
        "    for char in street_info:\n",
        "        if char.isdigit():\n",
        "            apartment_number.append(char)\n",
        "        else:\n",
        "            street_name.append(char)\n",
        "\n",
        "    street_name = \"\".join(street_name).strip()\n",
        "    apartment_number = \"\".join(apartment_number)\n",
        "\n",
        "    return pd.Series([apartment_number, street_name, city, zip_code])\n",
        "\n",
        "# Apply function to DataFrame\n",
        "df2[['Apartment Number', 'Street Name', 'City_2', 'Zip Code']] = df2['address'].apply(clean_and_split_address)\n",
        "\n",
        "\n",
        "# Display results\n",
        "df2[['Apartment Number', 'Street Name', 'City_2', 'Zip Code']]\n"
      ]
    },
    {
      "cell_type": "code",
      "execution_count": 19,
      "metadata": {
        "id": "LczJzxw0HZHg"
      },
      "outputs": [],
      "source": [
        "def extract_city(address):\n",
        "    if isinstance(address, str):  # Check if the value is a string\n",
        "        parts = address.split(\",\", 1)  # Split at the first comma\n",
        "        return parts[0].strip()  # Return the part before the comma\n",
        "    return \"\"  # Return an empty string if the address is not a string\n",
        "\n",
        "# Fill NaN values in 'city' column with values from 'new city' column\n",
        "df2['city'] = df2['city'].fillna(df2['City_2'].apply(extract_city))"
      ]
    },
    {
      "cell_type": "code",
      "execution_count": 20,
      "metadata": {
        "id": "CpdInM0c0E2s"
      },
      "outputs": [],
      "source": [
        "#to drop\n",
        "droping = ['restaurant_link', 'original_location','country', 'restaurant_link', 'vegetarian_friendly', 'vegan_options', 'gluten_free', 'top_tags', 'meals'\n",
        ", 'cuisines', 'special_diets', 'features', 'keywords', 'price_range', 'address', 'City_2']\n",
        "df2 = df2.drop(columns=droping, axis=1)"
      ]
    }
  ],
  "metadata": {
    "colab": {
      "provenance": [],
      "mount_file_id": "1bomiPiyL0l9DMgwCM6t1avgL-6MOSlii",
      "authorship_tag": "ABX9TyOuDXyU+/Daf74xjrEFaFDJ",
      "include_colab_link": true
    },
    "kernelspec": {
      "display_name": "Python 3",
      "name": "python3"
    },
    "language_info": {
      "name": "python"
    }
  },
  "nbformat": 4,
  "nbformat_minor": 0
}